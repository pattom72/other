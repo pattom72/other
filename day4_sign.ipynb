{
  "nbformat": 4,
  "nbformat_minor": 0,
  "metadata": {
    "colab": {
      "name": "day4.ipynb",
      "provenance": [],
      "mount_file_id": "1ZVmSDC0xZ9qYLd7TXNV-xVhh_VqmuiTN",
      "authorship_tag": "ABX9TyNqfhunE6L/iINEYF83R08b",
      "include_colab_link": true
    },
    "kernelspec": {
      "name": "python3",
      "display_name": "Python 3"
    }
  },
  "cells": [
    {
      "cell_type": "markdown",
      "metadata": {
        "id": "view-in-github",
        "colab_type": "text"
      },
      "source": [
        "<a href=\"https://colab.research.google.com/github/pattom72/other/blob/master/day4_sign.ipynb\" target=\"_parent\"><img src=\"https://colab.research.google.com/assets/colab-badge.svg\" alt=\"Open In Colab\"/></a>"
      ]
    },
    {
      "cell_type": "code",
      "metadata": {
        "id": "Hj5rER3ClKVq",
        "colab_type": "code",
        "colab": {}
      },
      "source": [
        "import pandas as pd\n",
        "import numpy as np\n",
        "import os\n",
        "import datetime\n",
        "\n",
        "import tensorflow as tf\n",
        "from tensorflow.keras.models import Sequential\n",
        "from tensorflow.keras.layers import Conv2D, MaxPool2D, Dense, Flatten, Dropout\n",
        "from tensorflow.keras.utils import to_categorical\n",
        "\n",
        "import matplotlib.pyplot as plt\n",
        "from skimage import color, exposure\n",
        "from sklearn.metrics import accuracy_score"
      ],
      "execution_count": 0,
      "outputs": []
    },
    {
      "cell_type": "code",
      "metadata": {
        "id": "bpQq_pkQlc0W",
        "colab_type": "code",
        "colab": {}
      },
      "source": [
        "%load_ext tensorboard"
      ],
      "execution_count": 0,
      "outputs": []
    },
    {
      "cell_type": "code",
      "metadata": {
        "id": "xqBDRjlSlfJU",
        "colab_type": "code",
        "outputId": "5873ed68-2619-48f1-c70c-5c7c4256613d",
        "colab": {
          "base_uri": "https://localhost:8080/",
          "height": 36
        }
      },
      "source": [
        "cd \"/content/drive/My Drive/Colab Notebooks/matrix_three_road_signs/\""
      ],
      "execution_count": 0,
      "outputs": [
        {
          "output_type": "stream",
          "text": [
            "/content/drive/My Drive/Colab Notebooks/matrix_three_road_signs\n"
          ],
          "name": "stdout"
        }
      ]
    },
    {
      "cell_type": "code",
      "metadata": {
        "id": "f-GHzvd4lhXI",
        "colab_type": "code",
        "colab": {}
      },
      "source": [
        "train = pd.read_pickle('data/train.p')\n",
        "test = pd.read_pickle('data/test.p')"
      ],
      "execution_count": 0,
      "outputs": []
    },
    {
      "cell_type": "code",
      "metadata": {
        "id": "Qq2ycmtflxQg",
        "colab_type": "code",
        "colab": {}
      },
      "source": [
        "x_train, y_train  = train['features'], train['labels']\n",
        "x_test, y_test  = test['features'], test['labels']"
      ],
      "execution_count": 0,
      "outputs": []
    },
    {
      "cell_type": "code",
      "metadata": {
        "id": "vMjhpXcDmDjy",
        "colab_type": "code",
        "colab": {}
      },
      "source": [
        "if y_train.ndim == 1: y_train = to_categorical(y_train)\n",
        "if y_test.ndim == 1: y_test = to_categorical(y_test)"
      ],
      "execution_count": 0,
      "outputs": []
    },
    {
      "cell_type": "code",
      "metadata": {
        "id": "6OXO0FWomKA0",
        "colab_type": "code",
        "colab": {}
      },
      "source": [
        "input_shape = x_train.shape[1:]\n",
        "num_classes = y_train.shape[1]"
      ],
      "execution_count": 0,
      "outputs": []
    },
    {
      "cell_type": "code",
      "metadata": {
        "id": "0GWb0I2lmS9o",
        "colab_type": "code",
        "outputId": "f29326cc-0aa7-4904-bec2-1d11956e413b",
        "colab": {
          "base_uri": "https://localhost:8080/",
          "height": 55
        }
      },
      "source": [
        "model = Sequential([\n",
        "                    Conv2D(filters=64, kernel_size=(3, 3), activation='relu', input_shape=input_shape),\n",
        "                    Flatten(),\n",
        "                    Dense(num_classes, activation='softmax'),\n",
        "])\n",
        "\n",
        "#model.summary()\n",
        "\n",
        "model.compile(loss='categorical_crossentropy', optimizer='Adam', metrics=['accuracy'])\n",
        "model.fit(x_train, y_train)"
      ],
      "execution_count": 0,
      "outputs": [
        {
          "output_type": "stream",
          "text": [
            "1088/1088 [==============================] - 49s 45ms/step - loss: 14.0927 - accuracy: 0.7787\n"
          ],
          "name": "stdout"
        },
        {
          "output_type": "execute_result",
          "data": {
            "text/plain": [
              "<tensorflow.python.keras.callbacks.History at 0x7fb2a9a0c668>"
            ]
          },
          "metadata": {
            "tags": []
          },
          "execution_count": 10
        }
      ]
    },
    {
      "cell_type": "code",
      "metadata": {
        "id": "Nn10SiMxmaG8",
        "colab_type": "code",
        "colab": {}
      },
      "source": [
        "def get_cnn_v1(input_shape, num_classes):\n",
        " return Sequential([\n",
        "    \n",
        "    Conv2D(filters=64, kernel_size=(3, 3), activation='relu', input_shape=input_shape),\n",
        "    \n",
        "    Flatten(),\n",
        "    \n",
        "    Dense(num_classes, activation='softmax'),\n",
        " ])"
      ],
      "execution_count": 0,
      "outputs": []
    },
    {
      "cell_type": "code",
      "metadata": {
        "id": "uG64LwGWmzJY",
        "colab_type": "code",
        "colab": {}
      },
      "source": [
        "def train_model(model, x_train, y_train, params_fit={}):\n",
        "  \n",
        "  model.compile(loss='categorical_crossentropy', optimizer='Adam', metrics=['accuracy'])\n",
        "\n",
        "  logdir = os.path.join(\"logs\", datetime.datetime.now().strftime(\"%Y%m%d-%H%M%S\"))\n",
        "  tensorboard_callback = tf.keras.callbacks.TensorBoard(logdir, histogram_freq=1)\n",
        "  \n",
        "  model.fit(\n",
        "      x_train, \n",
        "      y_train,\n",
        "      batch_size=params_fit.get('batch_size', 128),\n",
        "      epochs=params_fit.get('epochs', 5),\n",
        "      verbose=params_fit.get('verbose', 1),\n",
        "      validation_data=params_fit.get('validation_data', (x_train, y_train)),\n",
        "      callbacks=[tensorboard_callback]\n",
        "  )\n",
        "\n",
        "  return model"
      ],
      "execution_count": 0,
      "outputs": []
    },
    {
      "cell_type": "code",
      "metadata": {
        "id": "Io3Ssse0m0RA",
        "colab_type": "code",
        "outputId": "91d2eaca-be43-4e17-8059-f866f444f156",
        "colab": {
          "base_uri": "https://localhost:8080/",
          "height": 206
        }
      },
      "source": [
        "model = get_cnn_v1(input_shape, num_classes)\n",
        "model_trained = train_model(model, x_train, y_train)"
      ],
      "execution_count": 0,
      "outputs": [
        {
          "output_type": "stream",
          "text": [
            "Epoch 1/5\n",
            "272/272 [==============================] - 46s 170ms/step - loss: 18.0344 - accuracy: 0.7719 - val_loss: 0.2315 - val_accuracy: 0.9385\n",
            "Epoch 2/5\n",
            "272/272 [==============================] - 47s 172ms/step - loss: 0.1914 - accuracy: 0.9568 - val_loss: 0.1203 - val_accuracy: 0.9738\n",
            "Epoch 3/5\n",
            "272/272 [==============================] - 46s 171ms/step - loss: 0.1155 - accuracy: 0.9733 - val_loss: 0.1281 - val_accuracy: 0.9760\n",
            "Epoch 4/5\n",
            "272/272 [==============================] - 46s 169ms/step - loss: 0.1378 - accuracy: 0.9682 - val_loss: 0.1250 - val_accuracy: 0.9729\n",
            "Epoch 5/5\n",
            "272/272 [==============================] - 46s 168ms/step - loss: 0.0923 - accuracy: 0.9784 - val_loss: 0.0974 - val_accuracy: 0.9761\n"
          ],
          "name": "stdout"
        }
      ]
    },
    {
      "cell_type": "code",
      "metadata": {
        "id": "oOMi9hYkm3pw",
        "colab_type": "code",
        "colab": {}
      },
      "source": [
        "df = pd.read_csv('data/signnames.csv')\n",
        "labels_dict = df.to_dict()['b']"
      ],
      "execution_count": 0,
      "outputs": []
    },
    {
      "cell_type": "code",
      "metadata": {
        "id": "ipVXCb7km6ds",
        "colab_type": "code",
        "outputId": "ad6cfcbe-920e-4b23-b4b7-9d4486bd3e85",
        "colab": {
          "base_uri": "https://localhost:8080/",
          "height": 262
        }
      },
      "source": [
        "y_pred_prob = model_trained.predict(x_test)\n",
        "y_pred_prob"
      ],
      "execution_count": 0,
      "outputs": [
        {
          "output_type": "execute_result",
          "data": {
            "text/plain": [
              "array([[7.9479444e-12, 7.0656924e-06, 2.6133429e-04, ..., 2.4276729e-04,\n",
              "        1.7327722e-05, 1.1506142e-05],\n",
              "       [1.0978399e-09, 2.7113976e-05, 2.5059474e-03, ..., 4.3423235e-05,\n",
              "        7.5815791e-07, 3.1209079e-06],\n",
              "       [3.1361115e-11, 1.8757251e-05, 2.2653740e-05, ..., 2.3772987e-03,\n",
              "        3.6734197e-04, 5.0315098e-04],\n",
              "       ...,\n",
              "       [7.3067248e-03, 4.2641245e-02, 1.8292291e-02, ..., 1.6317733e-02,\n",
              "        2.5218997e-02, 1.1488552e-02],\n",
              "       [5.0174389e-03, 3.1545095e-02, 1.7016172e-02, ..., 1.7021881e-02,\n",
              "        1.9403605e-02, 9.7864429e-03],\n",
              "       [7.9288185e-03, 4.4080269e-02, 1.5942119e-02, ..., 1.1287838e-02,\n",
              "        1.2427984e-02, 2.8589857e-03]], dtype=float32)"
            ]
          },
          "metadata": {
            "tags": []
          },
          "execution_count": 17
        }
      ]
    },
    {
      "cell_type": "code",
      "metadata": {
        "id": "ZHDzhHGhnABw",
        "colab_type": "code",
        "outputId": "675bef24-1aa8-4287-8269-a57b8fd82f90",
        "colab": {
          "base_uri": "https://localhost:8080/",
          "height": 225
        }
      },
      "source": [
        "y_pred_prob[400]"
      ],
      "execution_count": 0,
      "outputs": [
        {
          "output_type": "execute_result",
          "data": {
            "text/plain": [
              "array([5.15751026e-07, 9.99996424e-01, 3.52229843e-11, 2.29970609e-11,\n",
              "       3.05094068e-06, 5.26405699e-12, 2.99002874e-13, 1.16879334e-15,\n",
              "       1.24017568e-21, 6.39876548e-17, 2.79163361e-15, 1.74891066e-18,\n",
              "       7.91823425e-23, 2.31693082e-25, 8.33229009e-19, 5.79101651e-19,\n",
              "       6.21265450e-22, 1.38232559e-26, 5.50786799e-14, 3.32754118e-36,\n",
              "       1.46825639e-30, 2.46083208e-19, 0.00000000e+00, 2.21649607e-26,\n",
              "       1.15691104e-20, 1.06078501e-24, 4.07339499e-22, 3.54441397e-24,\n",
              "       1.09749952e-20, 2.39293597e-22, 1.75078462e-35, 3.24506139e-18,\n",
              "       1.00451446e-25, 8.81937016e-27, 1.06655181e-22, 5.37757974e-18,\n",
              "       0.00000000e+00, 2.96936550e-31, 8.58559291e-23, 1.17667596e-30,\n",
              "       9.99767010e-25, 4.31876231e-27, 3.33131611e-19], dtype=float32)"
            ]
          },
          "metadata": {
            "tags": []
          },
          "execution_count": 18
        }
      ]
    },
    {
      "cell_type": "code",
      "metadata": {
        "id": "U41lvNBjm_1W",
        "colab_type": "code",
        "outputId": "1241dba5-20f0-4473-ebf7-a92f656fdf32",
        "colab": {
          "base_uri": "https://localhost:8080/",
          "height": 36
        }
      },
      "source": [
        "np.argmax( y_pred_prob[400] )"
      ],
      "execution_count": 0,
      "outputs": [
        {
          "output_type": "execute_result",
          "data": {
            "text/plain": [
              "1"
            ]
          },
          "metadata": {
            "tags": []
          },
          "execution_count": 19
        }
      ]
    },
    {
      "cell_type": "code",
      "metadata": {
        "id": "C9dteLLLm_oM",
        "colab_type": "code",
        "outputId": "ad216a88-ae09-40ba-d273-60b6a176949b",
        "colab": {
          "base_uri": "https://localhost:8080/",
          "height": 284
        }
      },
      "source": [
        "plt.bar(range(43), y_pred_prob[400])"
      ],
      "execution_count": 0,
      "outputs": [
        {
          "output_type": "execute_result",
          "data": {
            "text/plain": [
              "<BarContainer object of 43 artists>"
            ]
          },
          "metadata": {
            "tags": []
          },
          "execution_count": 20
        },
        {
          "output_type": "display_data",
          "data": {
            "image/png": "[encoded data removed]",
            "text/plain": [
              "<Figure size 432x288 with 1 Axes>"
            ]
          },
          "metadata": {
            "tags": []
          }
        }
      ]
    },
    {
      "cell_type": "code",
      "metadata": {
        "id": "qUHfuyI8m_cQ",
        "colab_type": "code",
        "outputId": "85413fcb-f0a4-46bb-e384-58ee1704e729",
        "colab": {
          "base_uri": "https://localhost:8080/",
          "height": 285
        }
      },
      "source": [
        "plt.imshow(x_test[400])"
      ],
      "execution_count": 0,
      "outputs": [
        {
          "output_type": "execute_result",
          "data": {
            "text/plain": [
              "<matplotlib.image.AxesImage at 0x7fb2a4ca5630>"
            ]
          },
          "metadata": {
            "tags": []
          },
          "execution_count": 21
        },
        {
          "output_type": "display_data",
          "data": {
            "image/png": "[encoded data removed]",
            "text/plain": [
              "<Figure size 432x288 with 1 Axes>"
            ]
          },
          "metadata": {
            "tags": []
          }
        }
      ]
    },
    {
      "cell_type": "code",
      "metadata": {
        "id": "ql6O5pMam_OK",
        "colab_type": "code",
        "colab": {}
      },
      "source": [
        "def predict(model_trained, x_test, y_test, scoring=accuracy_score):\n",
        "  y_test_norm = np.argmax(y_test,axis=1)\n",
        "  y_pred_prob = model_trained.predict(x_test)\n",
        "  y_pred = np.argmax(y_pred_prob, axis=1)\n",
        "  return scoring(y_test_norm, y_pred)"
      ],
      "execution_count": 0,
      "outputs": []
    },
    {
      "cell_type": "code",
      "metadata": {
        "id": "EuT_XYwEnMsI",
        "colab_type": "code",
        "outputId": "c41cf1ce-ebb5-4a7f-ad1c-e7111ff15622",
        "colab": {
          "base_uri": "https://localhost:8080/",
          "height": 36
        }
      },
      "source": [
        "predict(model_trained, x_test, y_test)"
      ],
      "execution_count": 0,
      "outputs": [
        {
          "output_type": "execute_result",
          "data": {
            "text/plain": [
              "0.8065759637188209"
            ]
          },
          "metadata": {
            "tags": []
          },
          "execution_count": 23
        }
      ]
    },
    {
      "cell_type": "code",
      "metadata": {
        "id": "und4a897nMeI",
        "colab_type": "code",
        "outputId": "ebb1d787-0d9e-4591-985a-c7bd0b45f9d8",
        "colab": {
          "base_uri": "https://localhost:8080/",
          "height": 36
        }
      },
      "source": [
        "def train_and_predict(model):\n",
        "  model_trained = train_model(model, x_train, y_train)\n",
        "  return predict(model_trained, x_test, y_test)"
      ],
      "execution_count": 0,
      "outputs": [
        {
          "output_type": "stream",
          "text": [
            "ERROR! Session/line number was not unique in database. History logging moved to new session 59\n"
          ],
          "name": "stdout"
        }
      ]
    },
    {
      "cell_type": "code",
      "metadata": {
        "id": "GFi79GxpnMNI",
        "colab_type": "code",
        "outputId": "2fa69325-676c-4319-a8bd-180138cc5045",
        "colab": {
          "base_uri": "https://localhost:8080/",
          "height": 225
        }
      },
      "source": [
        "def get_cnn_v2(input_shape, num_classes):\n",
        " return Sequential([\n",
        "    \n",
        "    Conv2D(filters=32, kernel_size=(3, 3), activation='relu', input_shape=input_shape),\n",
        "    MaxPool2D(),\n",
        "    Dropout(0.3),\n",
        "\n",
        "    Conv2D(filters=64, kernel_size=(3, 3), activation='relu'),\n",
        "    MaxPool2D(),\n",
        "    Dropout(0.3),\n",
        "    \n",
        "    Flatten(),\n",
        "    \n",
        "    Dense(1024, activation='relu'),\n",
        "    Dropout(0.3),\n",
        "\n",
        "    Dense(num_classes, activation='softmax'),\n",
        " ])\n",
        "\n",
        "train_and_predict( get_cnn_v2(input_shape, num_classes))"
      ],
      "execution_count": 0,
      "outputs": [
        {
          "output_type": "stream",
          "text": [
            "Epoch 1/5\n",
            "272/272 [==============================] - 71s 260ms/step - loss: 5.7939 - accuracy: 0.2312 - val_loss: 1.6418 - val_accuracy: 0.6116\n",
            "Epoch 2/5\n",
            "272/272 [==============================] - 70s 257ms/step - loss: 1.2480 - accuracy: 0.6348 - val_loss: 0.4261 - val_accuracy: 0.8992\n",
            "Epoch 3/5\n",
            "272/272 [==============================] - 71s 261ms/step - loss: 0.6461 - accuracy: 0.8065 - val_loss: 0.1970 - val_accuracy: 0.9629\n",
            "Epoch 4/5\n",
            "272/272 [==============================] - 71s 260ms/step - loss: 0.3977 - accuracy: 0.8826 - val_loss: 0.1027 - val_accuracy: 0.9788\n",
            "Epoch 5/5\n",
            "272/272 [==============================] - 70s 258ms/step - loss: 0.3010 - accuracy: 0.9104 - val_loss: 0.0621 - val_accuracy: 0.9882\n"
          ],
          "name": "stdout"
        },
        {
          "output_type": "execute_result",
          "data": {
            "text/plain": [
              "0.9219954648526077"
            ]
          },
          "metadata": {
            "tags": []
          },
          "execution_count": 25
        }
      ]
    },
    {
      "cell_type": "code",
      "metadata": {
        "id": "6bc2zJm9nL9E",
        "colab_type": "code",
        "outputId": "7ca61376-7b5d-45e7-dd8d-1a9c7782f250",
        "colab": {
          "base_uri": "https://localhost:8080/",
          "height": 225
        }
      },
      "source": [
        "def get_cnn_v3(input_shape, num_classes):\n",
        " return Sequential([\n",
        "    Conv2D(filters=32, kernel_size=(3, 3), activation='relu', input_shape=input_shape),\n",
        "    Conv2D(filters=32, kernel_size=(3, 3), activation='relu', input_shape=input_shape),\n",
        "    MaxPool2D(),\n",
        "    Dropout(0.3),\n",
        "\n",
        "    Conv2D(filters=64, kernel_size=(3, 3), activation='relu'),\n",
        "    Conv2D(filters=64, kernel_size=(3, 3), activation='relu'),\n",
        "    MaxPool2D(),\n",
        "    Dropout(0.3),\n",
        "    \n",
        "    Flatten(),\n",
        "    \n",
        "    Dense(1024, activation='relu'),\n",
        "    Dropout(0.3),\n",
        "\n",
        "    Dense(num_classes, activation='softmax'),\n",
        " ])\n",
        "\n",
        "train_and_predict( get_cnn_v3(input_shape, num_classes))"
      ],
      "execution_count": 0,
      "outputs": [
        {
          "output_type": "stream",
          "text": [
            "Epoch 1/5\n",
            "272/272 [==============================] - 142s 522ms/step - loss: 2.1816 - accuracy: 0.5008 - val_loss: 0.4302 - val_accuracy: 0.8999\n",
            "Epoch 2/5\n",
            "272/272 [==============================] - 141s 517ms/step - loss: 0.5166 - accuracy: 0.8473 - val_loss: 0.1449 - val_accuracy: 0.9707\n",
            "Epoch 3/5\n",
            "272/272 [==============================] - 142s 524ms/step - loss: 0.2686 - accuracy: 0.9192 - val_loss: 0.0630 - val_accuracy: 0.9863\n",
            "Epoch 4/5\n",
            "272/272 [==============================] - 139s 511ms/step - loss: 0.1800 - accuracy: 0.9466 - val_loss: 0.0400 - val_accuracy: 0.9902\n",
            "Epoch 5/5\n",
            "272/272 [==============================] - 139s 512ms/step - loss: 0.1330 - accuracy: 0.9605 - val_loss: 0.0213 - val_accuracy: 0.9953\n"
          ],
          "name": "stdout"
        },
        {
          "output_type": "execute_result",
          "data": {
            "text/plain": [
              "0.9707482993197278"
            ]
          },
          "metadata": {
            "tags": []
          },
          "execution_count": 26
        }
      ]
    },
    {
      "cell_type": "code",
      "metadata": {
        "id": "glu3R4kLnLqO",
        "colab_type": "code",
        "outputId": "ffe7fcc7-406f-4f0f-f349-38a12ceb6562",
        "colab": {
          "base_uri": "https://localhost:8080/",
          "height": 979
        }
      },
      "source": [
        "def get_cnn_v4(input_shape, num_classes):\n",
        " return Sequential([\n",
        "    Conv2D(filters=32, kernel_size=(3, 3), activation='relu', input_shape=input_shape),\n",
        "    Conv2D(filters=32, kernel_size=(3, 3), activation='relu', padding='same'),\n",
        "    MaxPool2D(),\n",
        "    Dropout(0.3),\n",
        "\n",
        "    Conv2D(filters=64, kernel_size=(3, 3), activation='relu', padding='same'),\n",
        "    Conv2D(filters=64, kernel_size=(3, 3), activation='relu'),\n",
        "    MaxPool2D(),\n",
        "    Dropout(0.3),\n",
        "    \n",
        "    Conv2D(filters=64, kernel_size=(3, 3), activation='relu', padding='same'),\n",
        "    Conv2D(filters=64, kernel_size=(3, 3), activation='relu'),\n",
        "    MaxPool2D(),\n",
        "    Dropout(0.3),\n",
        "\n",
        "    Flatten(),\n",
        "    \n",
        "    Dense(1024, activation='relu'),\n",
        "    Dropout(0.3),\n",
        "\n",
        "    Dense(num_classes, activation='softmax'),\n",
        " ])\n",
        "get_cnn_v4(input_shape, num_classes).summary()\n",
        "train_and_predict( get_cnn_v4(input_shape, num_classes))"
      ],
      "execution_count": 0,
      "outputs": [
        {
          "output_type": "stream",
          "text": [
            "Model: \"sequential_4\"\n",
            "_________________________________________________________________\n",
            "Layer (type)                 Output Shape              Param #   \n",
            "=================================================================\n",
            "conv2d_8 (Conv2D)            (None, 30, 30, 32)        896       \n",
            "_________________________________________________________________\n",
            "conv2d_9 (Conv2D)            (None, 30, 30, 32)        9248      \n",
            "_________________________________________________________________\n",
            "max_pooling2d_4 (MaxPooling2 (None, 15, 15, 32)        0         \n",
            "_________________________________________________________________\n",
            "dropout_6 (Dropout)          (None, 15, 15, 32)        0         \n",
            "_________________________________________________________________\n",
            "conv2d_10 (Conv2D)           (None, 15, 15, 64)        18496     \n",
            "_________________________________________________________________\n",
            "conv2d_11 (Conv2D)           (None, 13, 13, 64)        36928     \n",
            "_________________________________________________________________\n",
            "max_pooling2d_5 (MaxPooling2 (None, 6, 6, 64)          0         \n",
            "_________________________________________________________________\n",
            "dropout_7 (Dropout)          (None, 6, 6, 64)          0         \n",
            "_________________________________________________________________\n",
            "conv2d_12 (Conv2D)           (None, 6, 6, 64)          36928     \n",
            "_________________________________________________________________\n",
            "conv2d_13 (Conv2D)           (None, 4, 4, 64)          36928     \n",
            "_________________________________________________________________\n",
            "max_pooling2d_6 (MaxPooling2 (None, 2, 2, 64)          0         \n",
            "_________________________________________________________________\n",
            "dropout_8 (Dropout)          (None, 2, 2, 64)          0         \n",
            "_________________________________________________________________\n",
            "flatten_4 (Flatten)          (None, 256)               0         \n",
            "_________________________________________________________________\n",
            "dense_6 (Dense)              (None, 1024)              263168    \n",
            "_________________________________________________________________\n",
            "dropout_9 (Dropout)          (None, 1024)              0         \n",
            "_________________________________________________________________\n",
            "dense_7 (Dense)              (None, 43)                44075     \n",
            "=================================================================\n",
            "Total params: 446,667\n",
            "Trainable params: 446,667\n",
            "Non-trainable params: 0\n",
            "_________________________________________________________________\n",
            "Epoch 1/5\n",
            "272/272 [==============================] - 182s 670ms/step - loss: 2.4653 - accuracy: 0.3324 - val_loss: 0.6980 - val_accuracy: 0.7967\n",
            "Epoch 2/5\n",
            "272/272 [==============================] - 182s 670ms/step - loss: 0.7647 - accuracy: 0.7588 - val_loss: 0.2405 - val_accuracy: 0.9347\n",
            "Epoch 3/5\n",
            "272/272 [==============================] - 180s 662ms/step - loss: 0.4039 - accuracy: 0.8736 - val_loss: 0.1061 - val_accuracy: 0.9714\n",
            "Epoch 4/5\n",
            "272/272 [==============================] - 181s 666ms/step - loss: 0.2671 - accuracy: 0.9184 - val_loss: 0.0531 - val_accuracy: 0.9847\n",
            "Epoch 5/5\n",
            "272/272 [==============================] - 181s 666ms/step - loss: 0.2015 - accuracy: 0.9403 - val_loss: 0.0500 - val_accuracy: 0.9854\n"
          ],
          "name": "stdout"
        },
        {
          "output_type": "execute_result",
          "data": {
            "text/plain": [
              "0.9532879818594104"
            ]
          },
          "metadata": {
            "tags": []
          },
          "execution_count": 27
        }
      ]
    },
    {
      "cell_type": "code",
      "metadata": {
        "id": "yawRAnOjnLcW",
        "colab_type": "code",
        "outputId": "aa1d400c-2d3d-42f3-9389-2d0697e9e72c",
        "colab": {
          "base_uri": "https://localhost:8080/",
          "height": 225
        }
      },
      "source": [
        "def get_cnn_v5(input_shape, num_classes):\n",
        " return Sequential([\n",
        "    Conv2D(filters=32, kernel_size=(3, 3), activation='relu', input_shape=input_shape),\n",
        "    Conv2D(filters=32, kernel_size=(3, 3), activation='relu', padding='same'),\n",
        "    MaxPool2D(),\n",
        "    Dropout(0.3),\n",
        "\n",
        "    Conv2D(filters=64, kernel_size=(3, 3), activation='relu', padding='same'),\n",
        "    Conv2D(filters=64, kernel_size=(3, 3), activation='relu'),\n",
        "    MaxPool2D(),\n",
        "    Dropout(0.3),\n",
        "    \n",
        "    Conv2D(filters=64, kernel_size=(3, 3), activation='relu', padding='same'),\n",
        "    Conv2D(filters=64, kernel_size=(3, 3), activation='relu'),\n",
        "    MaxPool2D(),\n",
        "    Dropout(0.3),\n",
        "\n",
        "    Flatten(),\n",
        "    \n",
        "    Dense(1024, activation='relu'),\n",
        "    Dropout(0.3),\n",
        "\n",
        "    Dense(1024, activation='relu'),\n",
        "    Dropout(0.3),\n",
        "\n",
        "    Dense(num_classes, activation='softmax'),\n",
        " ])\n",
        "\n",
        "train_and_predict( get_cnn_v5(input_shape, num_classes))"
      ],
      "execution_count": 0,
      "outputs": [
        {
          "output_type": "stream",
          "text": [
            "Epoch 1/5\n",
            "272/272 [==============================] - 187s 689ms/step - loss: 2.5270 - accuracy: 0.3027 - val_loss: 1.1505 - val_accuracy: 0.6189\n",
            "Epoch 2/5\n",
            "272/272 [==============================] - 188s 689ms/step - loss: 0.9011 - accuracy: 0.7094 - val_loss: 0.2569 - val_accuracy: 0.9186\n",
            "Epoch 3/5\n",
            "272/272 [==============================] - 185s 682ms/step - loss: 0.4274 - accuracy: 0.8630 - val_loss: 0.1075 - val_accuracy: 0.9678\n",
            "Epoch 4/5\n",
            "272/272 [==============================] - 185s 679ms/step - loss: 0.2757 - accuracy: 0.9137 - val_loss: 0.0578 - val_accuracy: 0.9824\n",
            "Epoch 5/5\n",
            "272/272 [==============================] - 185s 680ms/step - loss: 0.2101 - accuracy: 0.9340 - val_loss: 0.0315 - val_accuracy: 0.9907\n"
          ],
          "name": "stdout"
        },
        {
          "output_type": "execute_result",
          "data": {
            "text/plain": [
              "0.9700680272108844"
            ]
          },
          "metadata": {
            "tags": []
          },
          "execution_count": 28
        }
      ]
    },
    {
      "cell_type": "code",
      "metadata": {
        "id": "EhMQNBX-ndIu",
        "colab_type": "code",
        "outputId": "5f60bdbc-008f-46a0-fdba-43ad790a9bd3",
        "colab": {
          "base_uri": "https://localhost:8080/",
          "height": 36
        }
      },
      "source": [
        "x_train[0].shape"
      ],
      "execution_count": 0,
      "outputs": [
        {
          "output_type": "execute_result",
          "data": {
            "text/plain": [
              "(32, 32, 3)"
            ]
          },
          "metadata": {
            "tags": []
          },
          "execution_count": 29
        }
      ]
    },
    {
      "cell_type": "code",
      "metadata": {
        "id": "HFzVx98Unc4m",
        "colab_type": "code",
        "outputId": "20e2311b-5ba6-4edf-f4ac-8d5bd8fb2233",
        "colab": {
          "base_uri": "https://localhost:8080/",
          "height": 36
        }
      },
      "source": [
        "color.rgb2gray(x_train[0]).shape"
      ],
      "execution_count": 0,
      "outputs": [
        {
          "output_type": "execute_result",
          "data": {
            "text/plain": [
              "(32, 32)"
            ]
          },
          "metadata": {
            "tags": []
          },
          "execution_count": 30
        }
      ]
    },
    {
      "cell_type": "code",
      "metadata": {
        "id": "TijraX_GnmS2",
        "colab_type": "code",
        "outputId": "67c4f90c-f7ea-4527-ac47-f6b6ea557c6a",
        "colab": {
          "base_uri": "https://localhost:8080/",
          "height": 285
        }
      },
      "source": [
        "plt.imshow(color.rgb2gray(x_train[0]))"
      ],
      "execution_count": 0,
      "outputs": [
        {
          "output_type": "execute_result",
          "data": {
            "text/plain": [
              "<matplotlib.image.AxesImage at 0x7fb29f11c0f0>"
            ]
          },
          "metadata": {
            "tags": []
          },
          "execution_count": 31
        },
        {
          "output_type": "display_data",
          "data": {
            "image/png": "[encoded data removed]",
            "text/plain": [
              "<Figure size 432x288 with 1 Axes>"
            ]
          },
          "metadata": {
            "tags": []
          }
        }
      ]
    },
    {
      "cell_type": "code",
      "metadata": {
        "id": "LQYnGxF2nmDS",
        "colab_type": "code",
        "colab": {}
      },
      "source": [
        "x_train_gray = color.rgb2gray(x_train).reshape(-1,32,32,1)\n",
        "x_test_gray = color.rgb2gray(x_test).reshape(-1,32,32,1)"
      ],
      "execution_count": 0,
      "outputs": []
    },
    {
      "cell_type": "code",
      "metadata": {
        "id": "AbDKc3Zinl0Y",
        "colab_type": "code",
        "outputId": "5ec796e2-f65e-4b36-d181-c689e37e5dad",
        "colab": {
          "base_uri": "https://localhost:8080/",
          "height": 225
        }
      },
      "source": [
        "model = get_cnn_v5((32,32,1), num_classes)\n",
        "model_trained = train_model(model, x_train_gray, y_train, params_fit={})\n",
        "predict(model_trained,x_test_gray,y_test)"
      ],
      "execution_count": 0,
      "outputs": [
        {
          "output_type": "stream",
          "text": [
            "Epoch 1/5\n",
            "272/272 [==============================] - 183s 673ms/step - loss: 2.7700 - accuracy: 0.2308 - val_loss: 0.7628 - val_accuracy: 0.7697\n",
            "Epoch 2/5\n",
            "272/272 [==============================] - 184s 676ms/step - loss: 0.5293 - accuracy: 0.8338 - val_loss: 0.1137 - val_accuracy: 0.9657\n",
            "Epoch 3/5\n",
            "272/272 [==============================] - 184s 676ms/step - loss: 0.2198 - accuracy: 0.9308 - val_loss: 0.0541 - val_accuracy: 0.9847\n",
            "Epoch 4/5\n",
            "272/272 [==============================] - 184s 677ms/step - loss: 0.1485 - accuracy: 0.9526 - val_loss: 0.0328 - val_accuracy: 0.9917\n",
            "Epoch 5/5\n",
            "272/272 [==============================] - 183s 672ms/step - loss: 0.1164 - accuracy: 0.9645 - val_loss: 0.0305 - val_accuracy: 0.9911\n"
          ],
          "name": "stdout"
        },
        {
          "output_type": "execute_result",
          "data": {
            "text/plain": [
              "0.964625850340136"
            ]
          },
          "metadata": {
            "tags": []
          },
          "execution_count": 33
        }
      ]
    },
    {
      "cell_type": "code",
      "metadata": {
        "id": "A61daCbYnllY",
        "colab_type": "code",
        "outputId": "2a9ec859-a562-4ba0-a864-2f31889fb68f",
        "colab": {
          "base_uri": "https://localhost:8080/",
          "height": 36
        }
      },
      "source": [
        "plt.imshow(color.rgb2gray(x_train[0]),cmap=plt.get_cmap('gray'))"
      ],
      "execution_count": 0,
      "outputs": [
        {
          "output_type": "execute_result",
          "data": {
            "text/plain": [
              "<matplotlib.image.AxesImage at 0x7fb29ee67a20>"
            ]
          },
          "metadata": {
            "tags": []
          },
          "execution_count": 34
        },
        {
          "output_type": "display_data",
          "data": {
            "image/png": "[encoded data removed]",
            "text/plain": [
              "<Figure size 432x288 with 1 Axes>"
            ]
          },
          "metadata": {
            "tags": []
          }
        }
      ]
    },
    {
      "cell_type": "code",
      "metadata": {
        "id": "GGznqBotnlWk",
        "colab_type": "code",
        "colab": {}
      },
      "source": [
        ""
      ],
      "execution_count": 0,
      "outputs": []
    },
    {
      "cell_type": "code",
      "metadata": {
        "id": "fE9HYTQZnlG0",
        "colab_type": "code",
        "colab": {}
      },
      "source": [
        ""
      ],
      "execution_count": 0,
      "outputs": []
    },
    {
      "cell_type": "code",
      "metadata": {
        "id": "N2TbpblUnkyw",
        "colab_type": "code",
        "colab": {}
      },
      "source": [
        ""
      ],
      "execution_count": 0,
      "outputs": []
    },
    {
      "cell_type": "code",
      "metadata": {
        "id": "rhcE6IDCnkjs",
        "colab_type": "code",
        "colab": {}
      },
      "source": [
        ""
      ],
      "execution_count": 0,
      "outputs": []
    }
  ]
}