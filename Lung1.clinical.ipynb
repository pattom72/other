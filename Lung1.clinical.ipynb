{
 "cells": [
  {
   "cell_type": "code",
   "execution_count": 184,
   "metadata": {
    "ExecuteTime": {
     "end_time": "2020-03-20T10:47:38.732081Z",
     "start_time": "2020-03-20T10:47:38.722996Z"
    }
   },
   "outputs": [],
   "source": [
    "import pandas as pd\n",
    "import numpy as np\n",
    "import scipy.stats as sts\n",
    "import matplotlib.pyplot as plt\n",
    "\n",
    "from sklearn.linear_model import LogisticRegression\n",
    "from scipy import stats\n",
    "from sklearn.tree import DecisionTreeClassifier\n",
    "from sklearn.neighbors import KNeighborsClassifier\n",
    "from sklearn.ensemble import RandomForestClassifier\n",
    "from mlxtend.plotting import plot_confusion_matrix\n",
    "from sklearn.model_selection import cross_val_score, KFold, train_test_split, GridSearchCV\n",
    "from sklearn.metrics import classification_report, accuracy_score, f1_score,confusion_matrix\n",
    "from sklearn.preprocessing import StandardScaler, LabelEncoder, OneHotEncoder"
   ]
  },
  {
   "cell_type": "code",
   "execution_count": 185,
   "metadata": {
    "ExecuteTime": {
     "end_time": "2020-03-20T10:47:38.866594Z",
     "start_time": "2020-03-20T10:47:38.733934Z"
    }
   },
   "outputs": [
    {
     "data": {
      "text/html": [
       "<div>\n",
       "<style scoped>\n",
       "    .dataframe tbody tr th:only-of-type {\n",
       "        vertical-align: middle;\n",
       "    }\n",
       "\n",
       "    .dataframe tbody tr th {\n",
       "        vertical-align: top;\n",
       "    }\n",
       "\n",
       "    .dataframe thead th {\n",
       "        text-align: right;\n",
       "    }\n",
       "</style>\n",
       "<table border=\"1\" class=\"dataframe\">\n",
       "  <thead>\n",
       "    <tr style=\"text-align: right;\">\n",
       "      <th></th>\n",
       "      <th>PatientID</th>\n",
       "      <th>age</th>\n",
       "      <th>clinical.T.Stage</th>\n",
       "      <th>Clinical.N.Stage</th>\n",
       "      <th>Clinical.M.Stage</th>\n",
       "      <th>Overall.Stage</th>\n",
       "      <th>Histology</th>\n",
       "      <th>gender</th>\n",
       "      <th>Survival.time</th>\n",
       "      <th>deadstatus.event</th>\n",
       "    </tr>\n",
       "  </thead>\n",
       "  <tbody>\n",
       "    <tr>\n",
       "      <th>0</th>\n",
       "      <td>LUNG1-001</td>\n",
       "      <td>78.7515</td>\n",
       "      <td>2.0</td>\n",
       "      <td>3</td>\n",
       "      <td>0</td>\n",
       "      <td>IIIb</td>\n",
       "      <td>large cell</td>\n",
       "      <td>male</td>\n",
       "      <td>2165</td>\n",
       "      <td>1</td>\n",
       "    </tr>\n",
       "    <tr>\n",
       "      <th>1</th>\n",
       "      <td>LUNG1-002</td>\n",
       "      <td>83.8001</td>\n",
       "      <td>2.0</td>\n",
       "      <td>0</td>\n",
       "      <td>0</td>\n",
       "      <td>I</td>\n",
       "      <td>squamous cell carcinoma</td>\n",
       "      <td>male</td>\n",
       "      <td>155</td>\n",
       "      <td>1</td>\n",
       "    </tr>\n",
       "    <tr>\n",
       "      <th>2</th>\n",
       "      <td>LUNG1-003</td>\n",
       "      <td>68.1807</td>\n",
       "      <td>2.0</td>\n",
       "      <td>3</td>\n",
       "      <td>0</td>\n",
       "      <td>IIIb</td>\n",
       "      <td>large cell</td>\n",
       "      <td>male</td>\n",
       "      <td>256</td>\n",
       "      <td>1</td>\n",
       "    </tr>\n",
       "    <tr>\n",
       "      <th>3</th>\n",
       "      <td>LUNG1-004</td>\n",
       "      <td>70.8802</td>\n",
       "      <td>2.0</td>\n",
       "      <td>1</td>\n",
       "      <td>0</td>\n",
       "      <td>II</td>\n",
       "      <td>squamous cell carcinoma</td>\n",
       "      <td>male</td>\n",
       "      <td>141</td>\n",
       "      <td>1</td>\n",
       "    </tr>\n",
       "    <tr>\n",
       "      <th>4</th>\n",
       "      <td>LUNG1-005</td>\n",
       "      <td>80.4819</td>\n",
       "      <td>4.0</td>\n",
       "      <td>2</td>\n",
       "      <td>0</td>\n",
       "      <td>IIIb</td>\n",
       "      <td>squamous cell carcinoma</td>\n",
       "      <td>male</td>\n",
       "      <td>353</td>\n",
       "      <td>1</td>\n",
       "    </tr>\n",
       "    <tr>\n",
       "      <th>...</th>\n",
       "      <td>...</td>\n",
       "      <td>...</td>\n",
       "      <td>...</td>\n",
       "      <td>...</td>\n",
       "      <td>...</td>\n",
       "      <td>...</td>\n",
       "      <td>...</td>\n",
       "      <td>...</td>\n",
       "      <td>...</td>\n",
       "      <td>...</td>\n",
       "    </tr>\n",
       "    <tr>\n",
       "      <th>417</th>\n",
       "      <td>LUNG1-418</td>\n",
       "      <td>53.6712</td>\n",
       "      <td>2.0</td>\n",
       "      <td>0</td>\n",
       "      <td>0</td>\n",
       "      <td>I</td>\n",
       "      <td>adenocarcinoma</td>\n",
       "      <td>male</td>\n",
       "      <td>282</td>\n",
       "      <td>0</td>\n",
       "    </tr>\n",
       "    <tr>\n",
       "      <th>418</th>\n",
       "      <td>LUNG1-419</td>\n",
       "      <td>66.5096</td>\n",
       "      <td>4.0</td>\n",
       "      <td>1</td>\n",
       "      <td>0</td>\n",
       "      <td>IIIb</td>\n",
       "      <td>squamous cell carcinoma</td>\n",
       "      <td>male</td>\n",
       "      <td>283</td>\n",
       "      <td>0</td>\n",
       "    </tr>\n",
       "    <tr>\n",
       "      <th>419</th>\n",
       "      <td>LUNG1-420</td>\n",
       "      <td>73.3808</td>\n",
       "      <td>2.0</td>\n",
       "      <td>1</td>\n",
       "      <td>0</td>\n",
       "      <td>II</td>\n",
       "      <td>squamous cell carcinoma</td>\n",
       "      <td>male</td>\n",
       "      <td>282</td>\n",
       "      <td>0</td>\n",
       "    </tr>\n",
       "    <tr>\n",
       "      <th>420</th>\n",
       "      <td>LUNG1-421</td>\n",
       "      <td>61.7041</td>\n",
       "      <td>2.0</td>\n",
       "      <td>2</td>\n",
       "      <td>0</td>\n",
       "      <td>IIIa</td>\n",
       "      <td>squamous cell carcinoma</td>\n",
       "      <td>female</td>\n",
       "      <td>282</td>\n",
       "      <td>0</td>\n",
       "    </tr>\n",
       "    <tr>\n",
       "      <th>421</th>\n",
       "      <td>LUNG1-422</td>\n",
       "      <td>68.1260</td>\n",
       "      <td>2.0</td>\n",
       "      <td>0</td>\n",
       "      <td>0</td>\n",
       "      <td>I</td>\n",
       "      <td>NaN</td>\n",
       "      <td>female</td>\n",
       "      <td>269</td>\n",
       "      <td>0</td>\n",
       "    </tr>\n",
       "  </tbody>\n",
       "</table>\n",
       "<p>422 rows × 10 columns</p>\n",
       "</div>"
      ],
      "text/plain": [
       "     PatientID      age  clinical.T.Stage  Clinical.N.Stage  Clinical.M.Stage  \\\n",
       "0    LUNG1-001  78.7515               2.0                 3                 0   \n",
       "1    LUNG1-002  83.8001               2.0                 0                 0   \n",
       "2    LUNG1-003  68.1807               2.0                 3                 0   \n",
       "3    LUNG1-004  70.8802               2.0                 1                 0   \n",
       "4    LUNG1-005  80.4819               4.0                 2                 0   \n",
       "..         ...      ...               ...               ...               ...   \n",
       "417  LUNG1-418  53.6712               2.0                 0                 0   \n",
       "418  LUNG1-419  66.5096               4.0                 1                 0   \n",
       "419  LUNG1-420  73.3808               2.0                 1                 0   \n",
       "420  LUNG1-421  61.7041               2.0                 2                 0   \n",
       "421  LUNG1-422  68.1260               2.0                 0                 0   \n",
       "\n",
       "    Overall.Stage                Histology  gender  Survival.time  \\\n",
       "0            IIIb               large cell    male           2165   \n",
       "1               I  squamous cell carcinoma    male            155   \n",
       "2            IIIb               large cell    male            256   \n",
       "3              II  squamous cell carcinoma    male            141   \n",
       "4            IIIb  squamous cell carcinoma    male            353   \n",
       "..            ...                      ...     ...            ...   \n",
       "417             I           adenocarcinoma    male            282   \n",
       "418          IIIb  squamous cell carcinoma    male            283   \n",
       "419            II  squamous cell carcinoma    male            282   \n",
       "420          IIIa  squamous cell carcinoma  female            282   \n",
       "421             I                      NaN  female            269   \n",
       "\n",
       "     deadstatus.event  \n",
       "0                   1  \n",
       "1                   1  \n",
       "2                   1  \n",
       "3                   1  \n",
       "4                   1  \n",
       "..                ...  \n",
       "417                 0  \n",
       "418                 0  \n",
       "419                 0  \n",
       "420                 0  \n",
       "421                 0  \n",
       "\n",
       "[422 rows x 10 columns]"
      ]
     },
     "execution_count": 185,
     "metadata": {},
     "output_type": "execute_result"
    }
   ],
   "source": [
    "data = pd.read_csv('Lung1.clinical.csv')\n",
    "data"
   ]
  },
  {
   "cell_type": "code",
   "execution_count": 186,
   "metadata": {
    "ExecuteTime": {
     "end_time": "2020-03-20T10:47:38.926799Z",
     "start_time": "2020-03-20T10:47:38.869948Z"
    }
   },
   "outputs": [
    {
     "name": "stdout",
     "output_type": "stream",
     "text": [
      "                  Nulls  Num_of_nulls [qty]  Num_of_nulls [%]\n",
      "PatientID         False                   0              0.00\n",
      "age                True                  22              5.21\n",
      "clinical.T.Stage   True                   1              0.24\n",
      "Clinical.N.Stage  False                   0              0.00\n",
      "Clinical.M.Stage  False                   0              0.00\n",
      "Overall.Stage      True                   1              0.24\n",
      "Histology          True                  42              9.95\n",
      "gender            False                   0              0.00\n",
      "Survival.time     False                   0              0.00\n",
      "deadstatus.event  False                   0              0.00\n"
     ]
    }
   ],
   "source": [
    "nulls_summary = pd.DataFrame(data.isnull().any(), columns=['Nulls'])\n",
    "nulls_summary['Num_of_nulls [qty]'] = pd.DataFrame(data.isnull().sum())\n",
    "nulls_summary['Num_of_nulls [%]'] = round((data.isnull().mean()*100),2)\n",
    "print(nulls_summary)"
   ]
  },
  {
   "cell_type": "code",
   "execution_count": 187,
   "metadata": {
    "ExecuteTime": {
     "end_time": "2020-03-20T10:47:39.894992Z",
     "start_time": "2020-03-20T10:47:38.929675Z"
    }
   },
   "outputs": [
    {
     "data": {
      "text/plain": [
       "age                                                   (nan, nan)\n",
       "clinical.T.Stage                                      (nan, nan)\n",
       "Clinical.N.Stage                       (3643.4417958395056, 0.0)\n",
       "Clinical.M.Stage     (700.7500031224572, 6.824490367540774e-153)\n",
       "Survival.time       (104.74239109017154, 1.8008550750091275e-23)\n",
       "deadstatus.event                       (1948.7550189062279, 0.0)\n",
       "dtype: object"
      ]
     },
     "execution_count": 187,
     "metadata": {},
     "output_type": "execute_result"
    },
    {
     "data": {
      "image/png": "[encoded data removed]",
      "text/plain": [
       "<Figure size 432x288 with 6 Axes>"
      ]
     },
     "metadata": {
      "needs_background": "light"
     },
     "output_type": "display_data"
    }
   ],
   "source": [
    "\n",
    "data.hist(bins=20) # histogram dla wszystkich zmiennych\n",
    "\n",
    "data.select_dtypes([float, int]).apply(stats.normaltest)"
   ]
  },
  {
   "cell_type": "code",
   "execution_count": 188,
   "metadata": {
    "ExecuteTime": {
     "end_time": "2020-03-20T10:47:39.929772Z",
     "start_time": "2020-03-20T10:47:39.897265Z"
    }
   },
   "outputs": [
    {
     "data": {
      "text/html": [
       "<div>\n",
       "<style scoped>\n",
       "    .dataframe tbody tr th:only-of-type {\n",
       "        vertical-align: middle;\n",
       "    }\n",
       "\n",
       "    .dataframe tbody tr th {\n",
       "        vertical-align: top;\n",
       "    }\n",
       "\n",
       "    .dataframe thead th {\n",
       "        text-align: right;\n",
       "    }\n",
       "</style>\n",
       "<table border=\"1\" class=\"dataframe\">\n",
       "  <thead>\n",
       "    <tr style=\"text-align: right;\">\n",
       "      <th></th>\n",
       "      <th>age</th>\n",
       "      <th>clinical.T.Stage</th>\n",
       "      <th>Clinical.N.Stage</th>\n",
       "      <th>Clinical.M.Stage</th>\n",
       "      <th>Overall.Stage</th>\n",
       "      <th>Histology</th>\n",
       "      <th>gender</th>\n",
       "      <th>Survival.time</th>\n",
       "      <th>deadstatus.event</th>\n",
       "    </tr>\n",
       "  </thead>\n",
       "  <tbody>\n",
       "    <tr>\n",
       "      <th>0</th>\n",
       "      <td>78.7515</td>\n",
       "      <td>2.0</td>\n",
       "      <td>3</td>\n",
       "      <td>0</td>\n",
       "      <td>IIIb</td>\n",
       "      <td>large cell</td>\n",
       "      <td>male</td>\n",
       "      <td>2165</td>\n",
       "      <td>1</td>\n",
       "    </tr>\n",
       "    <tr>\n",
       "      <th>1</th>\n",
       "      <td>83.8001</td>\n",
       "      <td>2.0</td>\n",
       "      <td>0</td>\n",
       "      <td>0</td>\n",
       "      <td>I</td>\n",
       "      <td>squamous cell carcinoma</td>\n",
       "      <td>male</td>\n",
       "      <td>155</td>\n",
       "      <td>1</td>\n",
       "    </tr>\n",
       "    <tr>\n",
       "      <th>2</th>\n",
       "      <td>68.1807</td>\n",
       "      <td>2.0</td>\n",
       "      <td>3</td>\n",
       "      <td>0</td>\n",
       "      <td>IIIb</td>\n",
       "      <td>large cell</td>\n",
       "      <td>male</td>\n",
       "      <td>256</td>\n",
       "      <td>1</td>\n",
       "    </tr>\n",
       "    <tr>\n",
       "      <th>3</th>\n",
       "      <td>70.8802</td>\n",
       "      <td>2.0</td>\n",
       "      <td>1</td>\n",
       "      <td>0</td>\n",
       "      <td>II</td>\n",
       "      <td>squamous cell carcinoma</td>\n",
       "      <td>male</td>\n",
       "      <td>141</td>\n",
       "      <td>1</td>\n",
       "    </tr>\n",
       "    <tr>\n",
       "      <th>4</th>\n",
       "      <td>80.4819</td>\n",
       "      <td>4.0</td>\n",
       "      <td>2</td>\n",
       "      <td>0</td>\n",
       "      <td>IIIb</td>\n",
       "      <td>squamous cell carcinoma</td>\n",
       "      <td>male</td>\n",
       "      <td>353</td>\n",
       "      <td>1</td>\n",
       "    </tr>\n",
       "    <tr>\n",
       "      <th>...</th>\n",
       "      <td>...</td>\n",
       "      <td>...</td>\n",
       "      <td>...</td>\n",
       "      <td>...</td>\n",
       "      <td>...</td>\n",
       "      <td>...</td>\n",
       "      <td>...</td>\n",
       "      <td>...</td>\n",
       "      <td>...</td>\n",
       "    </tr>\n",
       "    <tr>\n",
       "      <th>417</th>\n",
       "      <td>53.6712</td>\n",
       "      <td>2.0</td>\n",
       "      <td>0</td>\n",
       "      <td>0</td>\n",
       "      <td>I</td>\n",
       "      <td>adenocarcinoma</td>\n",
       "      <td>male</td>\n",
       "      <td>282</td>\n",
       "      <td>0</td>\n",
       "    </tr>\n",
       "    <tr>\n",
       "      <th>418</th>\n",
       "      <td>66.5096</td>\n",
       "      <td>4.0</td>\n",
       "      <td>1</td>\n",
       "      <td>0</td>\n",
       "      <td>IIIb</td>\n",
       "      <td>squamous cell carcinoma</td>\n",
       "      <td>male</td>\n",
       "      <td>283</td>\n",
       "      <td>0</td>\n",
       "    </tr>\n",
       "    <tr>\n",
       "      <th>419</th>\n",
       "      <td>73.3808</td>\n",
       "      <td>2.0</td>\n",
       "      <td>1</td>\n",
       "      <td>0</td>\n",
       "      <td>II</td>\n",
       "      <td>squamous cell carcinoma</td>\n",
       "      <td>male</td>\n",
       "      <td>282</td>\n",
       "      <td>0</td>\n",
       "    </tr>\n",
       "    <tr>\n",
       "      <th>420</th>\n",
       "      <td>61.7041</td>\n",
       "      <td>2.0</td>\n",
       "      <td>2</td>\n",
       "      <td>0</td>\n",
       "      <td>IIIa</td>\n",
       "      <td>squamous cell carcinoma</td>\n",
       "      <td>female</td>\n",
       "      <td>282</td>\n",
       "      <td>0</td>\n",
       "    </tr>\n",
       "    <tr>\n",
       "      <th>421</th>\n",
       "      <td>68.1260</td>\n",
       "      <td>2.0</td>\n",
       "      <td>0</td>\n",
       "      <td>0</td>\n",
       "      <td>I</td>\n",
       "      <td>NaN</td>\n",
       "      <td>female</td>\n",
       "      <td>269</td>\n",
       "      <td>0</td>\n",
       "    </tr>\n",
       "  </tbody>\n",
       "</table>\n",
       "<p>422 rows × 9 columns</p>\n",
       "</div>"
      ],
      "text/plain": [
       "         age  clinical.T.Stage  Clinical.N.Stage  Clinical.M.Stage  \\\n",
       "0    78.7515               2.0                 3                 0   \n",
       "1    83.8001               2.0                 0                 0   \n",
       "2    68.1807               2.0                 3                 0   \n",
       "3    70.8802               2.0                 1                 0   \n",
       "4    80.4819               4.0                 2                 0   \n",
       "..       ...               ...               ...               ...   \n",
       "417  53.6712               2.0                 0                 0   \n",
       "418  66.5096               4.0                 1                 0   \n",
       "419  73.3808               2.0                 1                 0   \n",
       "420  61.7041               2.0                 2                 0   \n",
       "421  68.1260               2.0                 0                 0   \n",
       "\n",
       "    Overall.Stage                Histology  gender  Survival.time  \\\n",
       "0            IIIb               large cell    male           2165   \n",
       "1               I  squamous cell carcinoma    male            155   \n",
       "2            IIIb               large cell    male            256   \n",
       "3              II  squamous cell carcinoma    male            141   \n",
       "4            IIIb  squamous cell carcinoma    male            353   \n",
       "..            ...                      ...     ...            ...   \n",
       "417             I           adenocarcinoma    male            282   \n",
       "418          IIIb  squamous cell carcinoma    male            283   \n",
       "419            II  squamous cell carcinoma    male            282   \n",
       "420          IIIa  squamous cell carcinoma  female            282   \n",
       "421             I                      NaN  female            269   \n",
       "\n",
       "     deadstatus.event  \n",
       "0                   1  \n",
       "1                   1  \n",
       "2                   1  \n",
       "3                   1  \n",
       "4                   1  \n",
       "..                ...  \n",
       "417                 0  \n",
       "418                 0  \n",
       "419                 0  \n",
       "420                 0  \n",
       "421                 0  \n",
       "\n",
       "[422 rows x 9 columns]"
      ]
     },
     "execution_count": 188,
     "metadata": {},
     "output_type": "execute_result"
    }
   ],
   "source": [
    "data = data.drop('PatientID', axis = 1)\n",
    "data"
   ]
  },
  {
   "cell_type": "code",
   "execution_count": 189,
   "metadata": {
    "ExecuteTime": {
     "end_time": "2020-03-20T10:47:40.026036Z",
     "start_time": "2020-03-20T10:47:39.931788Z"
    }
   },
   "outputs": [
    {
     "data": {
      "text/html": [
       "<div>\n",
       "<style scoped>\n",
       "    .dataframe tbody tr th:only-of-type {\n",
       "        vertical-align: middle;\n",
       "    }\n",
       "\n",
       "    .dataframe tbody tr th {\n",
       "        vertical-align: top;\n",
       "    }\n",
       "\n",
       "    .dataframe thead th {\n",
       "        text-align: right;\n",
       "    }\n",
       "</style>\n",
       "<table border=\"1\" class=\"dataframe\">\n",
       "  <thead>\n",
       "    <tr style=\"text-align: right;\">\n",
       "      <th></th>\n",
       "      <th>age</th>\n",
       "      <th>clinical.T.Stage</th>\n",
       "      <th>Clinical.N.Stage</th>\n",
       "      <th>Clinical.M.Stage</th>\n",
       "      <th>Overall.Stage</th>\n",
       "      <th>Histology</th>\n",
       "      <th>gender</th>\n",
       "      <th>Survival.time</th>\n",
       "      <th>deadstatus.event</th>\n",
       "    </tr>\n",
       "  </thead>\n",
       "  <tbody>\n",
       "    <tr>\n",
       "      <th>0</th>\n",
       "      <td>78.7515</td>\n",
       "      <td>2.0</td>\n",
       "      <td>3</td>\n",
       "      <td>0</td>\n",
       "      <td>IIIb</td>\n",
       "      <td>large cell</td>\n",
       "      <td>male</td>\n",
       "      <td>2165</td>\n",
       "      <td>1</td>\n",
       "    </tr>\n",
       "    <tr>\n",
       "      <th>1</th>\n",
       "      <td>83.8001</td>\n",
       "      <td>2.0</td>\n",
       "      <td>0</td>\n",
       "      <td>0</td>\n",
       "      <td>I</td>\n",
       "      <td>squamous cell carcinoma</td>\n",
       "      <td>male</td>\n",
       "      <td>155</td>\n",
       "      <td>1</td>\n",
       "    </tr>\n",
       "    <tr>\n",
       "      <th>2</th>\n",
       "      <td>68.1807</td>\n",
       "      <td>2.0</td>\n",
       "      <td>3</td>\n",
       "      <td>0</td>\n",
       "      <td>IIIb</td>\n",
       "      <td>large cell</td>\n",
       "      <td>male</td>\n",
       "      <td>256</td>\n",
       "      <td>1</td>\n",
       "    </tr>\n",
       "    <tr>\n",
       "      <th>3</th>\n",
       "      <td>70.8802</td>\n",
       "      <td>2.0</td>\n",
       "      <td>1</td>\n",
       "      <td>0</td>\n",
       "      <td>II</td>\n",
       "      <td>squamous cell carcinoma</td>\n",
       "      <td>male</td>\n",
       "      <td>141</td>\n",
       "      <td>1</td>\n",
       "    </tr>\n",
       "    <tr>\n",
       "      <th>4</th>\n",
       "      <td>80.4819</td>\n",
       "      <td>4.0</td>\n",
       "      <td>2</td>\n",
       "      <td>0</td>\n",
       "      <td>IIIb</td>\n",
       "      <td>squamous cell carcinoma</td>\n",
       "      <td>male</td>\n",
       "      <td>353</td>\n",
       "      <td>1</td>\n",
       "    </tr>\n",
       "    <tr>\n",
       "      <th>...</th>\n",
       "      <td>...</td>\n",
       "      <td>...</td>\n",
       "      <td>...</td>\n",
       "      <td>...</td>\n",
       "      <td>...</td>\n",
       "      <td>...</td>\n",
       "      <td>...</td>\n",
       "      <td>...</td>\n",
       "      <td>...</td>\n",
       "    </tr>\n",
       "    <tr>\n",
       "      <th>416</th>\n",
       "      <td>65.5616</td>\n",
       "      <td>4.0</td>\n",
       "      <td>2</td>\n",
       "      <td>0</td>\n",
       "      <td>IIIb</td>\n",
       "      <td>squamous cell carcinoma</td>\n",
       "      <td>male</td>\n",
       "      <td>289</td>\n",
       "      <td>0</td>\n",
       "    </tr>\n",
       "    <tr>\n",
       "      <th>417</th>\n",
       "      <td>53.6712</td>\n",
       "      <td>2.0</td>\n",
       "      <td>0</td>\n",
       "      <td>0</td>\n",
       "      <td>I</td>\n",
       "      <td>adenocarcinoma</td>\n",
       "      <td>male</td>\n",
       "      <td>282</td>\n",
       "      <td>0</td>\n",
       "    </tr>\n",
       "    <tr>\n",
       "      <th>418</th>\n",
       "      <td>66.5096</td>\n",
       "      <td>4.0</td>\n",
       "      <td>1</td>\n",
       "      <td>0</td>\n",
       "      <td>IIIb</td>\n",
       "      <td>squamous cell carcinoma</td>\n",
       "      <td>male</td>\n",
       "      <td>283</td>\n",
       "      <td>0</td>\n",
       "    </tr>\n",
       "    <tr>\n",
       "      <th>419</th>\n",
       "      <td>73.3808</td>\n",
       "      <td>2.0</td>\n",
       "      <td>1</td>\n",
       "      <td>0</td>\n",
       "      <td>II</td>\n",
       "      <td>squamous cell carcinoma</td>\n",
       "      <td>male</td>\n",
       "      <td>282</td>\n",
       "      <td>0</td>\n",
       "    </tr>\n",
       "    <tr>\n",
       "      <th>420</th>\n",
       "      <td>61.7041</td>\n",
       "      <td>2.0</td>\n",
       "      <td>2</td>\n",
       "      <td>0</td>\n",
       "      <td>IIIa</td>\n",
       "      <td>squamous cell carcinoma</td>\n",
       "      <td>female</td>\n",
       "      <td>282</td>\n",
       "      <td>0</td>\n",
       "    </tr>\n",
       "  </tbody>\n",
       "</table>\n",
       "<p>365 rows × 9 columns</p>\n",
       "</div>"
      ],
      "text/plain": [
       "         age  clinical.T.Stage  Clinical.N.Stage  Clinical.M.Stage  \\\n",
       "0    78.7515               2.0                 3                 0   \n",
       "1    83.8001               2.0                 0                 0   \n",
       "2    68.1807               2.0                 3                 0   \n",
       "3    70.8802               2.0                 1                 0   \n",
       "4    80.4819               4.0                 2                 0   \n",
       "..       ...               ...               ...               ...   \n",
       "416  65.5616               4.0                 2                 0   \n",
       "417  53.6712               2.0                 0                 0   \n",
       "418  66.5096               4.0                 1                 0   \n",
       "419  73.3808               2.0                 1                 0   \n",
       "420  61.7041               2.0                 2                 0   \n",
       "\n",
       "    Overall.Stage                Histology  gender  Survival.time  \\\n",
       "0            IIIb               large cell    male           2165   \n",
       "1               I  squamous cell carcinoma    male            155   \n",
       "2            IIIb               large cell    male            256   \n",
       "3              II  squamous cell carcinoma    male            141   \n",
       "4            IIIb  squamous cell carcinoma    male            353   \n",
       "..            ...                      ...     ...            ...   \n",
       "416          IIIb  squamous cell carcinoma    male            289   \n",
       "417             I           adenocarcinoma    male            282   \n",
       "418          IIIb  squamous cell carcinoma    male            283   \n",
       "419            II  squamous cell carcinoma    male            282   \n",
       "420          IIIa  squamous cell carcinoma  female            282   \n",
       "\n",
       "     deadstatus.event  \n",
       "0                   1  \n",
       "1                   1  \n",
       "2                   1  \n",
       "3                   1  \n",
       "4                   1  \n",
       "..                ...  \n",
       "416                 0  \n",
       "417                 0  \n",
       "418                 0  \n",
       "419                 0  \n",
       "420                 0  \n",
       "\n",
       "[365 rows x 9 columns]"
      ]
     },
     "execution_count": 189,
     "metadata": {},
     "output_type": "execute_result"
    }
   ],
   "source": [
    "data = data.dropna()\n",
    "data"
   ]
  },
  {
   "cell_type": "code",
   "execution_count": 190,
   "metadata": {
    "ExecuteTime": {
     "end_time": "2020-03-20T10:47:40.104722Z",
     "start_time": "2020-03-20T10:47:40.030438Z"
    }
   },
   "outputs": [
    {
     "data": {
      "text/plain": [
       "(365, 9)"
      ]
     },
     "execution_count": 190,
     "metadata": {},
     "output_type": "execute_result"
    }
   ],
   "source": [
    "data.shape"
   ]
  },
  {
   "cell_type": "code",
   "execution_count": 191,
   "metadata": {
    "ExecuteTime": {
     "end_time": "2020-03-20T10:47:40.215947Z",
     "start_time": "2020-03-20T10:47:40.109654Z"
    }
   },
   "outputs": [
    {
     "data": {
      "text/html": [
       "<div>\n",
       "<style scoped>\n",
       "    .dataframe tbody tr th:only-of-type {\n",
       "        vertical-align: middle;\n",
       "    }\n",
       "\n",
       "    .dataframe tbody tr th {\n",
       "        vertical-align: top;\n",
       "    }\n",
       "\n",
       "    .dataframe thead th {\n",
       "        text-align: right;\n",
       "    }\n",
       "</style>\n",
       "<table border=\"1\" class=\"dataframe\">\n",
       "  <thead>\n",
       "    <tr style=\"text-align: right;\">\n",
       "      <th></th>\n",
       "      <th>niska_granica</th>\n",
       "      <th>wysoka_granica</th>\n",
       "      <th>wartosci_odstajace_L</th>\n",
       "      <th>wartosci_odstajace_U</th>\n",
       "    </tr>\n",
       "  </thead>\n",
       "  <tbody>\n",
       "    <tr>\n",
       "      <th>age</th>\n",
       "      <td>39.6976</td>\n",
       "      <td>97.7288</td>\n",
       "      <td>1</td>\n",
       "      <td>0</td>\n",
       "    </tr>\n",
       "    <tr>\n",
       "      <th>clinical.T.Stage</th>\n",
       "      <td>-1.0000</td>\n",
       "      <td>7.0000</td>\n",
       "      <td>0</td>\n",
       "      <td>0</td>\n",
       "    </tr>\n",
       "    <tr>\n",
       "      <th>Clinical.N.Stage</th>\n",
       "      <td>-3.0000</td>\n",
       "      <td>5.0000</td>\n",
       "      <td>0</td>\n",
       "      <td>0</td>\n",
       "    </tr>\n",
       "    <tr>\n",
       "      <th>Clinical.M.Stage</th>\n",
       "      <td>0.0000</td>\n",
       "      <td>0.0000</td>\n",
       "      <td>0</td>\n",
       "      <td>4</td>\n",
       "    </tr>\n",
       "    <tr>\n",
       "      <th>Survival.time</th>\n",
       "      <td>-357.0000</td>\n",
       "      <td>1291.0000</td>\n",
       "      <td>0</td>\n",
       "      <td>30</td>\n",
       "    </tr>\n",
       "    <tr>\n",
       "      <th>deadstatus.event</th>\n",
       "      <td>-1.5000</td>\n",
       "      <td>2.5000</td>\n",
       "      <td>0</td>\n",
       "      <td>0</td>\n",
       "    </tr>\n",
       "  </tbody>\n",
       "</table>\n",
       "</div>"
      ],
      "text/plain": [
       "                  niska_granica  wysoka_granica  wartosci_odstajace_L  \\\n",
       "age                     39.6976         97.7288                     1   \n",
       "clinical.T.Stage        -1.0000          7.0000                     0   \n",
       "Clinical.N.Stage        -3.0000          5.0000                     0   \n",
       "Clinical.M.Stage         0.0000          0.0000                     0   \n",
       "Survival.time         -357.0000       1291.0000                     0   \n",
       "deadstatus.event        -1.5000          2.5000                     0   \n",
       "\n",
       "                  wartosci_odstajace_U  \n",
       "age                                  0  \n",
       "clinical.T.Stage                     0  \n",
       "Clinical.N.Stage                     0  \n",
       "Clinical.M.Stage                     4  \n",
       "Survival.time                       30  \n",
       "deadstatus.event                     0  "
      ]
     },
     "execution_count": 191,
     "metadata": {},
     "output_type": "execute_result"
    }
   ],
   "source": [
    "\n",
    "#sprawdzam gdzie występują wartości odstające\n",
    "Q_first = data.quantile(0.25)\n",
    "Q_third = data.quantile(0.75)\n",
    "iqr = Q_third-Q_first\n",
    "low_boundary = (Q_first - 1.5 * iqr)\n",
    "upp_boundary = (Q_third + 1.5 * iqr)\n",
    "num_of_outliers_L = (data[iqr.index] < low_boundary).sum()\n",
    "num_of_outliers_U = (data[iqr.index] > upp_boundary).sum()\n",
    "wartosci_odstajace = pd.DataFrame({'niska_granica':low_boundary, 'wysoka_granica':upp_boundary,\\\n",
    "                         'wartosci_odstajace_L':num_of_outliers_L, 'wartosci_odstajace_U':num_of_outliers_U}) \n",
    "wartosci_odstajace"
   ]
  },
  {
   "cell_type": "code",
   "execution_count": 192,
   "metadata": {
    "ExecuteTime": {
     "end_time": "2020-03-20T10:47:40.310413Z",
     "start_time": "2020-03-20T10:47:40.218556Z"
    }
   },
   "outputs": [],
   "source": [
    "\n",
    "X, y = data.drop(\"deadstatus.event\", axis=1), data['deadstatus.event']"
   ]
  },
  {
   "cell_type": "code",
   "execution_count": 193,
   "metadata": {
    "ExecuteTime": {
     "end_time": "2020-03-20T10:47:40.398447Z",
     "start_time": "2020-03-20T10:47:40.314299Z"
    }
   },
   "outputs": [
    {
     "data": {
      "text/plain": [
       "0      1\n",
       "1      1\n",
       "2      1\n",
       "3      1\n",
       "4      1\n",
       "      ..\n",
       "416    0\n",
       "417    0\n",
       "418    0\n",
       "419    0\n",
       "420    0\n",
       "Name: deadstatus.event, Length: 365, dtype: int64"
      ]
     },
     "execution_count": 193,
     "metadata": {},
     "output_type": "execute_result"
    }
   ],
   "source": [
    "y"
   ]
  },
  {
   "cell_type": "code",
   "execution_count": 194,
   "metadata": {
    "ExecuteTime": {
     "end_time": "2020-03-20T10:47:40.483300Z",
     "start_time": "2020-03-20T10:47:40.402168Z"
    }
   },
   "outputs": [
    {
     "data": {
      "text/plain": [
       "array([1, 0])"
      ]
     },
     "execution_count": 194,
     "metadata": {},
     "output_type": "execute_result"
    }
   ],
   "source": [
    "y.unique()"
   ]
  },
  {
   "cell_type": "code",
   "execution_count": 195,
   "metadata": {
    "ExecuteTime": {
     "end_time": "2020-03-20T10:47:40.645266Z",
     "start_time": "2020-03-20T10:47:40.486294Z"
    }
   },
   "outputs": [
    {
     "data": {
      "text/plain": [
       "<matplotlib.axes._subplots.AxesSubplot at 0x7fc4ac740390>"
      ]
     },
     "execution_count": 195,
     "metadata": {},
     "output_type": "execute_result"
    },
    {
     "data": {
      "image/png": "[encoded data removed]",
      "text/plain": [
       "<Figure size 432x288 with 1 Axes>"
      ]
     },
     "metadata": {},
     "output_type": "display_data"
    }
   ],
   "source": [
    "data['deadstatus.event'].value_counts().plot(kind='pie')"
   ]
  },
  {
   "cell_type": "code",
   "execution_count": 196,
   "metadata": {
    "ExecuteTime": {
     "end_time": "2020-03-20T10:47:40.657249Z",
     "start_time": "2020-03-20T10:47:40.647698Z"
    }
   },
   "outputs": [],
   "source": [
    "y = LabelEncoder().fit_transform(y)"
   ]
  },
  {
   "cell_type": "code",
   "execution_count": 197,
   "metadata": {
    "ExecuteTime": {
     "end_time": "2020-03-20T10:47:40.741921Z",
     "start_time": "2020-03-20T10:47:40.659162Z"
    }
   },
   "outputs": [
    {
     "data": {
      "text/plain": [
       "array([1, 1, 1, 1, 1, 1, 1, 1, 1, 0, 1, 1, 0, 1, 1, 1, 1, 1, 1, 1, 1, 1,\n",
       "       1, 0, 1, 1, 1, 0, 1, 1, 1, 1, 1, 1, 1, 1, 1, 1, 1, 1, 0, 0, 1, 1,\n",
       "       1, 1, 1, 1, 1, 1, 1, 1, 1, 0, 1, 0, 1, 1, 0, 1, 1, 1, 0, 1, 1, 1,\n",
       "       1, 0, 1, 0, 1, 0, 1, 1, 1, 1, 0, 1, 1, 1, 1, 1, 1, 1, 1, 1, 0, 1,\n",
       "       1, 1, 1, 1, 0, 1, 0, 1, 1, 1, 1, 0, 1, 0, 0, 0, 1, 0, 1, 1, 1, 1,\n",
       "       1, 0, 0, 0, 1, 0, 1, 0, 1, 0, 1, 1, 0, 0, 1, 1, 1, 1, 1, 0, 1, 1,\n",
       "       1, 1, 0, 1, 1, 0, 1, 1, 1, 0, 0, 0, 1, 1, 1, 1, 1, 1, 1, 1, 1, 1,\n",
       "       0, 1, 1, 0, 0, 0, 1, 1, 1, 1, 0, 1, 0, 0, 1, 1, 1, 0, 1, 0, 1, 0,\n",
       "       1, 1, 1, 1, 1, 1, 1, 0, 0, 0, 1, 1, 1, 1, 0, 0, 1, 1, 0, 0, 1, 1,\n",
       "       1, 1, 0, 1, 0, 0, 0, 1, 0, 1, 1, 0, 0, 0, 0, 1, 0, 1, 1, 0, 1, 0,\n",
       "       0, 1, 1, 0, 1, 0, 0, 0, 0, 1, 0, 1, 0, 1, 0, 1, 1, 0, 1, 1, 0, 0,\n",
       "       0, 0, 0, 0, 0, 1, 1, 1, 1, 0, 1, 0, 1, 0, 0, 1, 1, 0, 0, 0, 1, 0,\n",
       "       0, 1, 0, 1, 0, 0, 0, 0, 1, 0, 0, 1, 0, 1, 0, 0, 1, 1, 1, 0, 0, 0,\n",
       "       0, 0, 1, 0, 0, 1, 0, 0, 0, 0, 0, 0, 0, 0, 0, 0, 1, 0, 1, 1, 0, 1,\n",
       "       0, 1, 0, 1, 1, 0, 0, 0, 0, 0, 0, 0, 1, 1, 1, 0, 0, 0, 0, 1, 0, 0,\n",
       "       0, 1, 1, 0, 0, 0, 1, 0, 0, 1, 0, 1, 0, 0, 0, 1, 0, 1, 0, 0, 0, 1,\n",
       "       0, 0, 0, 1, 1, 0, 0, 0, 0, 0, 0, 0, 0])"
      ]
     },
     "execution_count": 197,
     "metadata": {},
     "output_type": "execute_result"
    }
   ],
   "source": [
    "y"
   ]
  },
  {
   "cell_type": "code",
   "execution_count": 198,
   "metadata": {
    "ExecuteTime": {
     "end_time": "2020-03-20T10:47:40.826450Z",
     "start_time": "2020-03-20T10:47:40.745325Z"
    }
   },
   "outputs": [],
   "source": [
    "X_enc = pd.get_dummies(X)"
   ]
  },
  {
   "cell_type": "code",
   "execution_count": 199,
   "metadata": {
    "ExecuteTime": {
     "end_time": "2020-03-20T10:47:40.925791Z",
     "start_time": "2020-03-20T10:47:40.828889Z"
    }
   },
   "outputs": [
    {
     "data": {
      "text/html": [
       "<div>\n",
       "<style scoped>\n",
       "    .dataframe tbody tr th:only-of-type {\n",
       "        vertical-align: middle;\n",
       "    }\n",
       "\n",
       "    .dataframe tbody tr th {\n",
       "        vertical-align: top;\n",
       "    }\n",
       "\n",
       "    .dataframe thead th {\n",
       "        text-align: right;\n",
       "    }\n",
       "</style>\n",
       "<table border=\"1\" class=\"dataframe\">\n",
       "  <thead>\n",
       "    <tr style=\"text-align: right;\">\n",
       "      <th></th>\n",
       "      <th>age</th>\n",
       "      <th>clinical.T.Stage</th>\n",
       "      <th>Clinical.N.Stage</th>\n",
       "      <th>Clinical.M.Stage</th>\n",
       "      <th>Survival.time</th>\n",
       "      <th>Overall.Stage_I</th>\n",
       "      <th>Overall.Stage_II</th>\n",
       "      <th>Overall.Stage_IIIa</th>\n",
       "      <th>Overall.Stage_IIIb</th>\n",
       "      <th>Histology_adenocarcinoma</th>\n",
       "      <th>Histology_large cell</th>\n",
       "      <th>Histology_nos</th>\n",
       "      <th>Histology_squamous cell carcinoma</th>\n",
       "      <th>gender_female</th>\n",
       "      <th>gender_male</th>\n",
       "    </tr>\n",
       "  </thead>\n",
       "  <tbody>\n",
       "    <tr>\n",
       "      <th>0</th>\n",
       "      <td>78.7515</td>\n",
       "      <td>2.0</td>\n",
       "      <td>3</td>\n",
       "      <td>0</td>\n",
       "      <td>2165</td>\n",
       "      <td>0</td>\n",
       "      <td>0</td>\n",
       "      <td>0</td>\n",
       "      <td>1</td>\n",
       "      <td>0</td>\n",
       "      <td>1</td>\n",
       "      <td>0</td>\n",
       "      <td>0</td>\n",
       "      <td>0</td>\n",
       "      <td>1</td>\n",
       "    </tr>\n",
       "    <tr>\n",
       "      <th>1</th>\n",
       "      <td>83.8001</td>\n",
       "      <td>2.0</td>\n",
       "      <td>0</td>\n",
       "      <td>0</td>\n",
       "      <td>155</td>\n",
       "      <td>1</td>\n",
       "      <td>0</td>\n",
       "      <td>0</td>\n",
       "      <td>0</td>\n",
       "      <td>0</td>\n",
       "      <td>0</td>\n",
       "      <td>0</td>\n",
       "      <td>1</td>\n",
       "      <td>0</td>\n",
       "      <td>1</td>\n",
       "    </tr>\n",
       "    <tr>\n",
       "      <th>2</th>\n",
       "      <td>68.1807</td>\n",
       "      <td>2.0</td>\n",
       "      <td>3</td>\n",
       "      <td>0</td>\n",
       "      <td>256</td>\n",
       "      <td>0</td>\n",
       "      <td>0</td>\n",
       "      <td>0</td>\n",
       "      <td>1</td>\n",
       "      <td>0</td>\n",
       "      <td>1</td>\n",
       "      <td>0</td>\n",
       "      <td>0</td>\n",
       "      <td>0</td>\n",
       "      <td>1</td>\n",
       "    </tr>\n",
       "    <tr>\n",
       "      <th>3</th>\n",
       "      <td>70.8802</td>\n",
       "      <td>2.0</td>\n",
       "      <td>1</td>\n",
       "      <td>0</td>\n",
       "      <td>141</td>\n",
       "      <td>0</td>\n",
       "      <td>1</td>\n",
       "      <td>0</td>\n",
       "      <td>0</td>\n",
       "      <td>0</td>\n",
       "      <td>0</td>\n",
       "      <td>0</td>\n",
       "      <td>1</td>\n",
       "      <td>0</td>\n",
       "      <td>1</td>\n",
       "    </tr>\n",
       "    <tr>\n",
       "      <th>4</th>\n",
       "      <td>80.4819</td>\n",
       "      <td>4.0</td>\n",
       "      <td>2</td>\n",
       "      <td>0</td>\n",
       "      <td>353</td>\n",
       "      <td>0</td>\n",
       "      <td>0</td>\n",
       "      <td>0</td>\n",
       "      <td>1</td>\n",
       "      <td>0</td>\n",
       "      <td>0</td>\n",
       "      <td>0</td>\n",
       "      <td>1</td>\n",
       "      <td>0</td>\n",
       "      <td>1</td>\n",
       "    </tr>\n",
       "    <tr>\n",
       "      <th>...</th>\n",
       "      <td>...</td>\n",
       "      <td>...</td>\n",
       "      <td>...</td>\n",
       "      <td>...</td>\n",
       "      <td>...</td>\n",
       "      <td>...</td>\n",
       "      <td>...</td>\n",
       "      <td>...</td>\n",
       "      <td>...</td>\n",
       "      <td>...</td>\n",
       "      <td>...</td>\n",
       "      <td>...</td>\n",
       "      <td>...</td>\n",
       "      <td>...</td>\n",
       "      <td>...</td>\n",
       "    </tr>\n",
       "    <tr>\n",
       "      <th>416</th>\n",
       "      <td>65.5616</td>\n",
       "      <td>4.0</td>\n",
       "      <td>2</td>\n",
       "      <td>0</td>\n",
       "      <td>289</td>\n",
       "      <td>0</td>\n",
       "      <td>0</td>\n",
       "      <td>0</td>\n",
       "      <td>1</td>\n",
       "      <td>0</td>\n",
       "      <td>0</td>\n",
       "      <td>0</td>\n",
       "      <td>1</td>\n",
       "      <td>0</td>\n",
       "      <td>1</td>\n",
       "    </tr>\n",
       "    <tr>\n",
       "      <th>417</th>\n",
       "      <td>53.6712</td>\n",
       "      <td>2.0</td>\n",
       "      <td>0</td>\n",
       "      <td>0</td>\n",
       "      <td>282</td>\n",
       "      <td>1</td>\n",
       "      <td>0</td>\n",
       "      <td>0</td>\n",
       "      <td>0</td>\n",
       "      <td>1</td>\n",
       "      <td>0</td>\n",
       "      <td>0</td>\n",
       "      <td>0</td>\n",
       "      <td>0</td>\n",
       "      <td>1</td>\n",
       "    </tr>\n",
       "    <tr>\n",
       "      <th>418</th>\n",
       "      <td>66.5096</td>\n",
       "      <td>4.0</td>\n",
       "      <td>1</td>\n",
       "      <td>0</td>\n",
       "      <td>283</td>\n",
       "      <td>0</td>\n",
       "      <td>0</td>\n",
       "      <td>0</td>\n",
       "      <td>1</td>\n",
       "      <td>0</td>\n",
       "      <td>0</td>\n",
       "      <td>0</td>\n",
       "      <td>1</td>\n",
       "      <td>0</td>\n",
       "      <td>1</td>\n",
       "    </tr>\n",
       "    <tr>\n",
       "      <th>419</th>\n",
       "      <td>73.3808</td>\n",
       "      <td>2.0</td>\n",
       "      <td>1</td>\n",
       "      <td>0</td>\n",
       "      <td>282</td>\n",
       "      <td>0</td>\n",
       "      <td>1</td>\n",
       "      <td>0</td>\n",
       "      <td>0</td>\n",
       "      <td>0</td>\n",
       "      <td>0</td>\n",
       "      <td>0</td>\n",
       "      <td>1</td>\n",
       "      <td>0</td>\n",
       "      <td>1</td>\n",
       "    </tr>\n",
       "    <tr>\n",
       "      <th>420</th>\n",
       "      <td>61.7041</td>\n",
       "      <td>2.0</td>\n",
       "      <td>2</td>\n",
       "      <td>0</td>\n",
       "      <td>282</td>\n",
       "      <td>0</td>\n",
       "      <td>0</td>\n",
       "      <td>1</td>\n",
       "      <td>0</td>\n",
       "      <td>0</td>\n",
       "      <td>0</td>\n",
       "      <td>0</td>\n",
       "      <td>1</td>\n",
       "      <td>1</td>\n",
       "      <td>0</td>\n",
       "    </tr>\n",
       "  </tbody>\n",
       "</table>\n",
       "<p>365 rows × 15 columns</p>\n",
       "</div>"
      ],
      "text/plain": [
       "         age  clinical.T.Stage  Clinical.N.Stage  Clinical.M.Stage  \\\n",
       "0    78.7515               2.0                 3                 0   \n",
       "1    83.8001               2.0                 0                 0   \n",
       "2    68.1807               2.0                 3                 0   \n",
       "3    70.8802               2.0                 1                 0   \n",
       "4    80.4819               4.0                 2                 0   \n",
       "..       ...               ...               ...               ...   \n",
       "416  65.5616               4.0                 2                 0   \n",
       "417  53.6712               2.0                 0                 0   \n",
       "418  66.5096               4.0                 1                 0   \n",
       "419  73.3808               2.0                 1                 0   \n",
       "420  61.7041               2.0                 2                 0   \n",
       "\n",
       "     Survival.time  Overall.Stage_I  Overall.Stage_II  Overall.Stage_IIIa  \\\n",
       "0             2165                0                 0                   0   \n",
       "1              155                1                 0                   0   \n",
       "2              256                0                 0                   0   \n",
       "3              141                0                 1                   0   \n",
       "4              353                0                 0                   0   \n",
       "..             ...              ...               ...                 ...   \n",
       "416            289                0                 0                   0   \n",
       "417            282                1                 0                   0   \n",
       "418            283                0                 0                   0   \n",
       "419            282                0                 1                   0   \n",
       "420            282                0                 0                   1   \n",
       "\n",
       "     Overall.Stage_IIIb  Histology_adenocarcinoma  Histology_large cell  \\\n",
       "0                     1                         0                     1   \n",
       "1                     0                         0                     0   \n",
       "2                     1                         0                     1   \n",
       "3                     0                         0                     0   \n",
       "4                     1                         0                     0   \n",
       "..                  ...                       ...                   ...   \n",
       "416                   1                         0                     0   \n",
       "417                   0                         1                     0   \n",
       "418                   1                         0                     0   \n",
       "419                   0                         0                     0   \n",
       "420                   0                         0                     0   \n",
       "\n",
       "     Histology_nos  Histology_squamous cell carcinoma  gender_female  \\\n",
       "0                0                                  0              0   \n",
       "1                0                                  1              0   \n",
       "2                0                                  0              0   \n",
       "3                0                                  1              0   \n",
       "4                0                                  1              0   \n",
       "..             ...                                ...            ...   \n",
       "416              0                                  1              0   \n",
       "417              0                                  0              0   \n",
       "418              0                                  1              0   \n",
       "419              0                                  1              0   \n",
       "420              0                                  1              1   \n",
       "\n",
       "     gender_male  \n",
       "0              1  \n",
       "1              1  \n",
       "2              1  \n",
       "3              1  \n",
       "4              1  \n",
       "..           ...  \n",
       "416            1  \n",
       "417            1  \n",
       "418            1  \n",
       "419            1  \n",
       "420            0  \n",
       "\n",
       "[365 rows x 15 columns]"
      ]
     },
     "execution_count": 199,
     "metadata": {},
     "output_type": "execute_result"
    }
   ],
   "source": [
    "X_enc"
   ]
  },
  {
   "cell_type": "code",
   "execution_count": 200,
   "metadata": {
    "ExecuteTime": {
     "end_time": "2020-03-20T10:47:40.997249Z",
     "start_time": "2020-03-20T10:47:40.928363Z"
    }
   },
   "outputs": [],
   "source": [
    "\n",
    "X_train_val, X_test, y_train_val, y_test = train_test_split(X_enc, y, test_size=0.2, random_state=123)"
   ]
  },
  {
   "cell_type": "code",
   "execution_count": 201,
   "metadata": {
    "ExecuteTime": {
     "end_time": "2020-03-20T10:47:41.309841Z",
     "start_time": "2020-03-20T10:47:40.999451Z"
    }
   },
   "outputs": [
    {
     "name": "stderr",
     "output_type": "stream",
     "text": [
      "/home/pattom/anaconda3/lib/python3.7/site-packages/sklearn/linear_model/_logistic.py:940: ConvergenceWarning: lbfgs failed to converge (status=1):\n",
      "STOP: TOTAL NO. of ITERATIONS REACHED LIMIT.\n",
      "\n",
      "Increase the number of iterations (max_iter) or scale the data as shown in:\n",
      "    https://scikit-learn.org/stable/modules/preprocessing.html\n",
      "Please also refer to the documentation for alternative solver options:\n",
      "    https://scikit-learn.org/stable/modules/linear_model.html#logistic-regression\n",
      "  extra_warning_msg=_LOGISTIC_SOLVER_CONVERGENCE_MSG)\n"
     ]
    },
    {
     "data": {
      "text/plain": [
       "LogisticRegression(C=1.0, class_weight=None, dual=False, fit_intercept=True,\n",
       "                   intercept_scaling=1, l1_ratio=None, max_iter=100,\n",
       "                   multi_class='auto', n_jobs=None, penalty='l2',\n",
       "                   random_state=None, solver='lbfgs', tol=0.0001, verbose=0,\n",
       "                   warm_start=False)"
      ]
     },
     "execution_count": 201,
     "metadata": {},
     "output_type": "execute_result"
    }
   ],
   "source": [
    "\n",
    "log_reg = LogisticRegression()\n",
    "log_reg.fit(X_train_val, y_train_val)"
   ]
  },
  {
   "cell_type": "code",
   "execution_count": 202,
   "metadata": {
    "ExecuteTime": {
     "end_time": "2020-03-20T10:47:41.351686Z",
     "start_time": "2020-03-20T10:47:41.311854Z"
    }
   },
   "outputs": [
    {
     "data": {
      "text/plain": [
       "array([0, 1, 0, 1, 0, 0, 1, 1, 1, 0, 1, 1, 1, 1, 0, 1, 1, 0, 1, 1, 1, 1,\n",
       "       1, 1, 1, 0, 1, 1, 1, 0])"
      ]
     },
     "execution_count": 202,
     "metadata": {},
     "output_type": "execute_result"
    }
   ],
   "source": [
    "\n",
    "y_pred = log_reg.predict(X_test)\n",
    "y_pred[:30]"
   ]
  },
  {
   "cell_type": "code",
   "execution_count": 203,
   "metadata": {
    "ExecuteTime": {
     "end_time": "2020-03-20T10:47:41.422055Z",
     "start_time": "2020-03-20T10:47:41.355092Z"
    }
   },
   "outputs": [
    {
     "data": {
      "text/plain": [
       "array([[0.60073904, 0.39926096],\n",
       "       [0.28075774, 0.71924226],\n",
       "       [0.9644156 , 0.0355844 ],\n",
       "       [0.45949089, 0.54050911],\n",
       "       [0.51938973, 0.48061027],\n",
       "       [0.54268804, 0.45731196],\n",
       "       [0.32168172, 0.67831828],\n",
       "       [0.31558987, 0.68441013],\n",
       "       [0.20166619, 0.79833381],\n",
       "       [0.58716254, 0.41283746],\n",
       "       [0.28822778, 0.71177222],\n",
       "       [0.25682054, 0.74317946],\n",
       "       [0.46652643, 0.53347357],\n",
       "       [0.23319491, 0.76680509],\n",
       "       [0.59118817, 0.40881183],\n",
       "       [0.18804716, 0.81195284],\n",
       "       [0.18793069, 0.81206931],\n",
       "       [0.72017598, 0.27982402],\n",
       "       [0.2437634 , 0.7562366 ],\n",
       "       [0.32353681, 0.67646319],\n",
       "       [0.35730804, 0.64269196],\n",
       "       [0.35807851, 0.64192149],\n",
       "       [0.37827436, 0.62172564],\n",
       "       [0.46214162, 0.53785838],\n",
       "       [0.29645499, 0.70354501],\n",
       "       [0.68999606, 0.31000394],\n",
       "       [0.34281829, 0.65718171],\n",
       "       [0.2767065 , 0.7232935 ],\n",
       "       [0.49694282, 0.50305718],\n",
       "       [0.55121453, 0.44878547]])"
      ]
     },
     "execution_count": 203,
     "metadata": {},
     "output_type": "execute_result"
    }
   ],
   "source": [
    "\n",
    "y_prob = log_reg.predict_proba(X_test)\n",
    "y_prob[:30]"
   ]
  },
  {
   "cell_type": "code",
   "execution_count": 204,
   "metadata": {
    "ExecuteTime": {
     "end_time": "2020-03-20T10:47:41.698716Z",
     "start_time": "2020-03-20T10:47:41.424603Z"
    }
   },
   "outputs": [
    {
     "name": "stdout",
     "output_type": "stream",
     "text": [
      "Accuracy: 0.7397260273972602\n"
     ]
    },
    {
     "data": {
      "image/png": "[encoded data removed]",
      "text/plain": [
       "<Figure size 432x288 with 1 Axes>"
      ]
     },
     "metadata": {
      "needs_background": "light"
     },
     "output_type": "display_data"
    }
   ],
   "source": [
    "cm = confusion_matrix(y_test, y_pred)\n",
    "plot_confusion_matrix(cm)\n",
    "\n",
    "print(f'Accuracy: {accuracy_score(y_test, y_pred)}')"
   ]
  },
  {
   "cell_type": "code",
   "execution_count": 205,
   "metadata": {
    "ExecuteTime": {
     "end_time": "2020-03-20T10:47:41.710447Z",
     "start_time": "2020-03-20T10:47:41.700769Z"
    }
   },
   "outputs": [
    {
     "name": "stdout",
     "output_type": "stream",
     "text": [
      "              precision    recall  f1-score   support\n",
      "\n",
      "           0       0.59      0.57      0.58        23\n",
      "           1       0.80      0.82      0.81        50\n",
      "\n",
      "    accuracy                           0.74        73\n",
      "   macro avg       0.70      0.69      0.69        73\n",
      "weighted avg       0.74      0.74      0.74        73\n",
      "\n"
     ]
    }
   ],
   "source": [
    "print(classification_report(y_test, y_pred))"
   ]
  },
  {
   "cell_type": "code",
   "execution_count": 206,
   "metadata": {
    "ExecuteTime": {
     "end_time": "2020-03-20T10:47:41.816162Z",
     "start_time": "2020-03-20T10:47:41.715128Z"
    }
   },
   "outputs": [
    {
     "data": {
      "text/html": [
       "<div>\n",
       "<style scoped>\n",
       "    .dataframe tbody tr th:only-of-type {\n",
       "        vertical-align: middle;\n",
       "    }\n",
       "\n",
       "    .dataframe tbody tr th {\n",
       "        vertical-align: top;\n",
       "    }\n",
       "\n",
       "    .dataframe thead th {\n",
       "        text-align: right;\n",
       "    }\n",
       "</style>\n",
       "<table border=\"1\" class=\"dataframe\">\n",
       "  <thead>\n",
       "    <tr style=\"text-align: right;\">\n",
       "      <th></th>\n",
       "      <th>age</th>\n",
       "      <th>clinical.T.Stage</th>\n",
       "      <th>Clinical.N.Stage</th>\n",
       "      <th>Clinical.M.Stage</th>\n",
       "      <th>Survival.time</th>\n",
       "      <th>Overall.Stage_I</th>\n",
       "      <th>Overall.Stage_II</th>\n",
       "      <th>Overall.Stage_IIIa</th>\n",
       "      <th>Overall.Stage_IIIb</th>\n",
       "      <th>Histology_adenocarcinoma</th>\n",
       "      <th>Histology_large cell</th>\n",
       "      <th>Histology_nos</th>\n",
       "      <th>Histology_squamous cell carcinoma</th>\n",
       "      <th>gender_female</th>\n",
       "      <th>gender_male</th>\n",
       "    </tr>\n",
       "  </thead>\n",
       "  <tbody>\n",
       "    <tr>\n",
       "      <th>188</th>\n",
       "      <td>64.1916</td>\n",
       "      <td>4.0</td>\n",
       "      <td>3</td>\n",
       "      <td>0</td>\n",
       "      <td>65</td>\n",
       "      <td>0</td>\n",
       "      <td>0</td>\n",
       "      <td>0</td>\n",
       "      <td>1</td>\n",
       "      <td>0</td>\n",
       "      <td>1</td>\n",
       "      <td>0</td>\n",
       "      <td>0</td>\n",
       "      <td>0</td>\n",
       "      <td>1</td>\n",
       "    </tr>\n",
       "    <tr>\n",
       "      <th>289</th>\n",
       "      <td>60.0986</td>\n",
       "      <td>2.0</td>\n",
       "      <td>3</td>\n",
       "      <td>0</td>\n",
       "      <td>321</td>\n",
       "      <td>0</td>\n",
       "      <td>0</td>\n",
       "      <td>0</td>\n",
       "      <td>1</td>\n",
       "      <td>0</td>\n",
       "      <td>0</td>\n",
       "      <td>0</td>\n",
       "      <td>1</td>\n",
       "      <td>1</td>\n",
       "      <td>0</td>\n",
       "    </tr>\n",
       "    <tr>\n",
       "      <th>118</th>\n",
       "      <td>56.5969</td>\n",
       "      <td>4.0</td>\n",
       "      <td>2</td>\n",
       "      <td>0</td>\n",
       "      <td>1384</td>\n",
       "      <td>0</td>\n",
       "      <td>0</td>\n",
       "      <td>0</td>\n",
       "      <td>1</td>\n",
       "      <td>0</td>\n",
       "      <td>1</td>\n",
       "      <td>0</td>\n",
       "      <td>0</td>\n",
       "      <td>1</td>\n",
       "      <td>0</td>\n",
       "    </tr>\n",
       "  </tbody>\n",
       "</table>\n",
       "</div>"
      ],
      "text/plain": [
       "         age  clinical.T.Stage  Clinical.N.Stage  Clinical.M.Stage  \\\n",
       "188  64.1916               4.0                 3                 0   \n",
       "289  60.0986               2.0                 3                 0   \n",
       "118  56.5969               4.0                 2                 0   \n",
       "\n",
       "     Survival.time  Overall.Stage_I  Overall.Stage_II  Overall.Stage_IIIa  \\\n",
       "188             65                0                 0                   0   \n",
       "289            321                0                 0                   0   \n",
       "118           1384                0                 0                   0   \n",
       "\n",
       "     Overall.Stage_IIIb  Histology_adenocarcinoma  Histology_large cell  \\\n",
       "188                   1                         0                     1   \n",
       "289                   1                         0                     0   \n",
       "118                   1                         0                     1   \n",
       "\n",
       "     Histology_nos  Histology_squamous cell carcinoma  gender_female  \\\n",
       "188              0                                  0              0   \n",
       "289              0                                  1              1   \n",
       "118              0                                  0              1   \n",
       "\n",
       "     gender_male  \n",
       "188            1  \n",
       "289            0  \n",
       "118            0  "
      ]
     },
     "execution_count": 206,
     "metadata": {},
     "output_type": "execute_result"
    }
   ],
   "source": [
    "X_train_val.head(3)"
   ]
  },
  {
   "cell_type": "code",
   "execution_count": 207,
   "metadata": {
    "ExecuteTime": {
     "end_time": "2020-03-20T10:47:41.897833Z",
     "start_time": "2020-03-20T10:47:41.820795Z"
    }
   },
   "outputs": [
    {
     "data": {
      "text/html": [
       "<div>\n",
       "<style scoped>\n",
       "    .dataframe tbody tr th:only-of-type {\n",
       "        vertical-align: middle;\n",
       "    }\n",
       "\n",
       "    .dataframe tbody tr th {\n",
       "        vertical-align: top;\n",
       "    }\n",
       "\n",
       "    .dataframe thead th {\n",
       "        text-align: right;\n",
       "    }\n",
       "</style>\n",
       "<table border=\"1\" class=\"dataframe\">\n",
       "  <thead>\n",
       "    <tr style=\"text-align: right;\">\n",
       "      <th></th>\n",
       "      <th>age</th>\n",
       "      <th>clinical.T.Stage</th>\n",
       "      <th>Clinical.N.Stage</th>\n",
       "      <th>Clinical.M.Stage</th>\n",
       "      <th>Survival.time</th>\n",
       "      <th>Overall.Stage_I</th>\n",
       "      <th>Overall.Stage_II</th>\n",
       "      <th>Overall.Stage_IIIa</th>\n",
       "      <th>Overall.Stage_IIIb</th>\n",
       "      <th>Histology_adenocarcinoma</th>\n",
       "      <th>Histology_large cell</th>\n",
       "      <th>Histology_nos</th>\n",
       "      <th>Histology_squamous cell carcinoma</th>\n",
       "      <th>gender_female</th>\n",
       "      <th>gender_male</th>\n",
       "    </tr>\n",
       "  </thead>\n",
       "  <tbody>\n",
       "    <tr>\n",
       "      <th>67</th>\n",
       "      <td>79.2827</td>\n",
       "      <td>2.0</td>\n",
       "      <td>3</td>\n",
       "      <td>0</td>\n",
       "      <td>916</td>\n",
       "      <td>0</td>\n",
       "      <td>0</td>\n",
       "      <td>0</td>\n",
       "      <td>1</td>\n",
       "      <td>0</td>\n",
       "      <td>0</td>\n",
       "      <td>0</td>\n",
       "      <td>1</td>\n",
       "      <td>0</td>\n",
       "      <td>1</td>\n",
       "    </tr>\n",
       "    <tr>\n",
       "      <th>362</th>\n",
       "      <td>68.3178</td>\n",
       "      <td>4.0</td>\n",
       "      <td>2</td>\n",
       "      <td>0</td>\n",
       "      <td>107</td>\n",
       "      <td>0</td>\n",
       "      <td>0</td>\n",
       "      <td>0</td>\n",
       "      <td>1</td>\n",
       "      <td>0</td>\n",
       "      <td>0</td>\n",
       "      <td>0</td>\n",
       "      <td>1</td>\n",
       "      <td>0</td>\n",
       "      <td>1</td>\n",
       "    </tr>\n",
       "    <tr>\n",
       "      <th>9</th>\n",
       "      <td>71.0554</td>\n",
       "      <td>4.0</td>\n",
       "      <td>3</td>\n",
       "      <td>0</td>\n",
       "      <td>2119</td>\n",
       "      <td>0</td>\n",
       "      <td>0</td>\n",
       "      <td>0</td>\n",
       "      <td>1</td>\n",
       "      <td>0</td>\n",
       "      <td>0</td>\n",
       "      <td>0</td>\n",
       "      <td>1</td>\n",
       "      <td>1</td>\n",
       "      <td>0</td>\n",
       "    </tr>\n",
       "  </tbody>\n",
       "</table>\n",
       "</div>"
      ],
      "text/plain": [
       "         age  clinical.T.Stage  Clinical.N.Stage  Clinical.M.Stage  \\\n",
       "67   79.2827               2.0                 3                 0   \n",
       "362  68.3178               4.0                 2                 0   \n",
       "9    71.0554               4.0                 3                 0   \n",
       "\n",
       "     Survival.time  Overall.Stage_I  Overall.Stage_II  Overall.Stage_IIIa  \\\n",
       "67             916                0                 0                   0   \n",
       "362            107                0                 0                   0   \n",
       "9             2119                0                 0                   0   \n",
       "\n",
       "     Overall.Stage_IIIb  Histology_adenocarcinoma  Histology_large cell  \\\n",
       "67                    1                         0                     0   \n",
       "362                   1                         0                     0   \n",
       "9                     1                         0                     0   \n",
       "\n",
       "     Histology_nos  Histology_squamous cell carcinoma  gender_female  \\\n",
       "67               0                                  1              0   \n",
       "362              0                                  1              0   \n",
       "9                0                                  1              1   \n",
       "\n",
       "     gender_male  \n",
       "67             1  \n",
       "362            1  \n",
       "9              0  "
      ]
     },
     "execution_count": 207,
     "metadata": {},
     "output_type": "execute_result"
    }
   ],
   "source": [
    "X_test.head(3)"
   ]
  },
  {
   "cell_type": "code",
   "execution_count": 208,
   "metadata": {
    "ExecuteTime": {
     "end_time": "2020-03-20T10:47:41.981578Z",
     "start_time": "2020-03-20T10:47:41.903871Z"
    }
   },
   "outputs": [],
   "source": [
    "\n",
    "algorithms = {\n",
    "    'knn': KNeighborsClassifier(),\n",
    "    'dt': DecisionTreeClassifier(),\n",
    "    'rf': RandomForestClassifier()\n",
    "}"
   ]
  },
  {
   "cell_type": "code",
   "execution_count": 209,
   "metadata": {
    "ExecuteTime": {
     "end_time": "2020-03-20T10:47:42.061428Z",
     "start_time": "2020-03-20T10:47:41.987144Z"
    }
   },
   "outputs": [
    {
     "name": "stderr",
     "output_type": "stream",
     "text": [
      "/home/pattom/anaconda3/lib/python3.7/site-packages/sklearn/model_selection/_split.py:296: FutureWarning: Setting a random_state has no effect since shuffle is False. This will raise an error in 0.24. You should leave random_state to its default (None), or set shuffle=True.\n",
      "  FutureWarning\n"
     ]
    }
   ],
   "source": [
    "kfold = KFold(n_splits=15, random_state=456)"
   ]
  },
  {
   "cell_type": "code",
   "execution_count": 210,
   "metadata": {
    "ExecuteTime": {
     "end_time": "2020-03-20T10:47:43.929221Z",
     "start_time": "2020-03-20T10:47:42.065619Z"
    }
   },
   "outputs": [],
   "source": [
    "tree_params_grid = {\n",
    "    'max_depth': [3, 5, 10, 20],\n",
    "    'criterion': ['gini', 'entropy'],\n",
    "    'max_features': [None, 5, 10, 20]\n",
    "}\n",
    "grid_tree = GridSearchCV(DecisionTreeClassifier(), tree_params_grid, cv=kfold, n_jobs=3)\n",
    "grid_tree_results = grid_tree.fit(X_train_val, y_train_val)"
   ]
  },
  {
   "cell_type": "code",
   "execution_count": 211,
   "metadata": {
    "ExecuteTime": {
     "end_time": "2020-03-20T10:47:43.938131Z",
     "start_time": "2020-03-20T10:47:43.931630Z"
    }
   },
   "outputs": [
    {
     "data": {
      "text/plain": [
       "DecisionTreeClassifier(ccp_alpha=0.0, class_weight=None, criterion='entropy',\n",
       "                       max_depth=5, max_features=None, max_leaf_nodes=None,\n",
       "                       min_impurity_decrease=0.0, min_impurity_split=None,\n",
       "                       min_samples_leaf=1, min_samples_split=2,\n",
       "                       min_weight_fraction_leaf=0.0, presort='deprecated',\n",
       "                       random_state=None, splitter='best')"
      ]
     },
     "execution_count": 211,
     "metadata": {},
     "output_type": "execute_result"
    }
   ],
   "source": [
    "grid_tree_results.best_estimator_"
   ]
  },
  {
   "cell_type": "code",
   "execution_count": 212,
   "metadata": {
    "ExecuteTime": {
     "end_time": "2020-03-20T10:47:44.023856Z",
     "start_time": "2020-03-20T10:47:43.942960Z"
    }
   },
   "outputs": [],
   "source": [
    "algorithms['dt'] = grid_tree_results.best_estimator_"
   ]
  },
  {
   "cell_type": "code",
   "execution_count": 213,
   "metadata": {
    "ExecuteTime": {
     "end_time": "2020-03-20T10:47:45.925868Z",
     "start_time": "2020-03-20T10:47:44.025869Z"
    }
   },
   "outputs": [],
   "source": [
    "results = {}\n",
    "for algo_name, algo in algorithms.items():\n",
    "    algo_results = cross_val_score(algo, X_train_val, y_train_val, cv=kfold, n_jobs=4)\n",
    "    results['model_' + algo_name] = algo_results"
   ]
  },
  {
   "cell_type": "code",
   "execution_count": 214,
   "metadata": {
    "ExecuteTime": {
     "end_time": "2020-03-20T10:47:45.937078Z",
     "start_time": "2020-03-20T10:47:45.930769Z"
    }
   },
   "outputs": [],
   "source": [
    "results_df = pd.DataFrame.from_dict(results)"
   ]
  },
  {
   "cell_type": "code",
   "execution_count": 215,
   "metadata": {
    "ExecuteTime": {
     "end_time": "2020-03-20T10:47:46.051435Z",
     "start_time": "2020-03-20T10:47:45.939594Z"
    }
   },
   "outputs": [
    {
     "data": {
      "text/plain": [
       "model_knn    0.643509\n",
       "model_dt     0.715965\n",
       "model_rf     0.657895\n",
       "dtype: float64"
      ]
     },
     "execution_count": 215,
     "metadata": {},
     "output_type": "execute_result"
    }
   ],
   "source": [
    "\n",
    "results_df.mean(axis=0)"
   ]
  },
  {
   "cell_type": "code",
   "execution_count": 216,
   "metadata": {
    "ExecuteTime": {
     "end_time": "2020-03-20T10:47:46.142723Z",
     "start_time": "2020-03-20T10:47:46.054183Z"
    }
   },
   "outputs": [
    {
     "data": {
      "text/plain": [
       "model_knn    0.098142\n",
       "model_dt     0.126090\n",
       "model_rf     0.115477\n",
       "dtype: float64"
      ]
     },
     "execution_count": 216,
     "metadata": {},
     "output_type": "execute_result"
    }
   ],
   "source": [
    "results_df.std(axis=0)"
   ]
  },
  {
   "cell_type": "code",
   "execution_count": 217,
   "metadata": {
    "ExecuteTime": {
     "end_time": "2020-03-20T10:47:46.239585Z",
     "start_time": "2020-03-20T10:47:46.145874Z"
    }
   },
   "outputs": [
    {
     "data": {
      "text/html": [
       "<div>\n",
       "<style scoped>\n",
       "    .dataframe tbody tr th:only-of-type {\n",
       "        vertical-align: middle;\n",
       "    }\n",
       "\n",
       "    .dataframe tbody tr th {\n",
       "        vertical-align: top;\n",
       "    }\n",
       "\n",
       "    .dataframe thead th {\n",
       "        text-align: right;\n",
       "    }\n",
       "</style>\n",
       "<table border=\"1\" class=\"dataframe\">\n",
       "  <thead>\n",
       "    <tr style=\"text-align: right;\">\n",
       "      <th></th>\n",
       "      <th>model_knn</th>\n",
       "      <th>model_dt</th>\n",
       "      <th>model_rf</th>\n",
       "    </tr>\n",
       "  </thead>\n",
       "  <tbody>\n",
       "    <tr>\n",
       "      <th>0</th>\n",
       "      <td>0.700000</td>\n",
       "      <td>0.750000</td>\n",
       "      <td>0.550000</td>\n",
       "    </tr>\n",
       "    <tr>\n",
       "      <th>1</th>\n",
       "      <td>0.650000</td>\n",
       "      <td>0.800000</td>\n",
       "      <td>0.700000</td>\n",
       "    </tr>\n",
       "    <tr>\n",
       "      <th>2</th>\n",
       "      <td>0.650000</td>\n",
       "      <td>0.600000</td>\n",
       "      <td>0.800000</td>\n",
       "    </tr>\n",
       "    <tr>\n",
       "      <th>3</th>\n",
       "      <td>0.550000</td>\n",
       "      <td>0.750000</td>\n",
       "      <td>0.600000</td>\n",
       "    </tr>\n",
       "    <tr>\n",
       "      <th>4</th>\n",
       "      <td>0.700000</td>\n",
       "      <td>0.850000</td>\n",
       "      <td>0.700000</td>\n",
       "    </tr>\n",
       "    <tr>\n",
       "      <th>5</th>\n",
       "      <td>0.600000</td>\n",
       "      <td>0.450000</td>\n",
       "      <td>0.550000</td>\n",
       "    </tr>\n",
       "    <tr>\n",
       "      <th>6</th>\n",
       "      <td>0.750000</td>\n",
       "      <td>0.750000</td>\n",
       "      <td>0.600000</td>\n",
       "    </tr>\n",
       "    <tr>\n",
       "      <th>7</th>\n",
       "      <td>0.842105</td>\n",
       "      <td>0.842105</td>\n",
       "      <td>0.736842</td>\n",
       "    </tr>\n",
       "    <tr>\n",
       "      <th>8</th>\n",
       "      <td>0.473684</td>\n",
       "      <td>0.578947</td>\n",
       "      <td>0.578947</td>\n",
       "    </tr>\n",
       "    <tr>\n",
       "      <th>9</th>\n",
       "      <td>0.684211</td>\n",
       "      <td>0.894737</td>\n",
       "      <td>0.631579</td>\n",
       "    </tr>\n",
       "    <tr>\n",
       "      <th>10</th>\n",
       "      <td>0.473684</td>\n",
       "      <td>0.526316</td>\n",
       "      <td>0.421053</td>\n",
       "    </tr>\n",
       "    <tr>\n",
       "      <th>11</th>\n",
       "      <td>0.578947</td>\n",
       "      <td>0.736842</td>\n",
       "      <td>0.684211</td>\n",
       "    </tr>\n",
       "    <tr>\n",
       "      <th>12</th>\n",
       "      <td>0.631579</td>\n",
       "      <td>0.789474</td>\n",
       "      <td>0.736842</td>\n",
       "    </tr>\n",
       "    <tr>\n",
       "      <th>13</th>\n",
       "      <td>0.684211</td>\n",
       "      <td>0.684211</td>\n",
       "      <td>0.684211</td>\n",
       "    </tr>\n",
       "    <tr>\n",
       "      <th>14</th>\n",
       "      <td>0.684211</td>\n",
       "      <td>0.736842</td>\n",
       "      <td>0.894737</td>\n",
       "    </tr>\n",
       "  </tbody>\n",
       "</table>\n",
       "</div>"
      ],
      "text/plain": [
       "    model_knn  model_dt  model_rf\n",
       "0    0.700000  0.750000  0.550000\n",
       "1    0.650000  0.800000  0.700000\n",
       "2    0.650000  0.600000  0.800000\n",
       "3    0.550000  0.750000  0.600000\n",
       "4    0.700000  0.850000  0.700000\n",
       "5    0.600000  0.450000  0.550000\n",
       "6    0.750000  0.750000  0.600000\n",
       "7    0.842105  0.842105  0.736842\n",
       "8    0.473684  0.578947  0.578947\n",
       "9    0.684211  0.894737  0.631579\n",
       "10   0.473684  0.526316  0.421053\n",
       "11   0.578947  0.736842  0.684211\n",
       "12   0.631579  0.789474  0.736842\n",
       "13   0.684211  0.684211  0.684211\n",
       "14   0.684211  0.736842  0.894737"
      ]
     },
     "execution_count": 217,
     "metadata": {},
     "output_type": "execute_result"
    }
   ],
   "source": [
    "results_df"
   ]
  },
  {
   "cell_type": "code",
   "execution_count": 218,
   "metadata": {
    "ExecuteTime": {
     "end_time": "2020-03-20T10:47:46.323358Z",
     "start_time": "2020-03-20T10:47:46.241694Z"
    }
   },
   "outputs": [
    {
     "data": {
      "text/plain": [
       "FriedmanchisquareResult(statistic=6.576923076923063, pvalue=0.037311207120685135)"
      ]
     },
     "execution_count": 218,
     "metadata": {},
     "output_type": "execute_result"
    }
   ],
   "source": [
    "sts.friedmanchisquare(results_df.model_knn, results_df.model_rf, results_df.model_dt)"
   ]
  },
  {
   "cell_type": "code",
   "execution_count": 219,
   "metadata": {
    "ExecuteTime": {
     "end_time": "2020-03-20T10:47:46.392366Z",
     "start_time": "2020-03-20T10:47:46.325436Z"
    }
   },
   "outputs": [],
   "source": [
    "from statsmodels.sandbox.stats.multicomp import MultiComparison"
   ]
  },
  {
   "cell_type": "code",
   "execution_count": 220,
   "metadata": {
    "ExecuteTime": {
     "end_time": "2020-03-20T10:47:46.482101Z",
     "start_time": "2020-03-20T10:47:46.396258Z"
    }
   },
   "outputs": [],
   "source": [
    "results_df2 = results_df.copy()\n",
    "results_df2['id'] = results_df2.index\n",
    "results_reformatted = pd.melt(results_df2, id_vars='id').drop('id', axis=1)"
   ]
  },
  {
   "cell_type": "code",
   "execution_count": 221,
   "metadata": {
    "ExecuteTime": {
     "end_time": "2020-03-20T10:47:46.564363Z",
     "start_time": "2020-03-20T10:47:46.484985Z"
    }
   },
   "outputs": [
    {
     "data": {
      "text/html": [
       "<div>\n",
       "<style scoped>\n",
       "    .dataframe tbody tr th:only-of-type {\n",
       "        vertical-align: middle;\n",
       "    }\n",
       "\n",
       "    .dataframe tbody tr th {\n",
       "        vertical-align: top;\n",
       "    }\n",
       "\n",
       "    .dataframe thead th {\n",
       "        text-align: right;\n",
       "    }\n",
       "</style>\n",
       "<table border=\"1\" class=\"dataframe\">\n",
       "  <thead>\n",
       "    <tr style=\"text-align: right;\">\n",
       "      <th></th>\n",
       "      <th>variable</th>\n",
       "      <th>value</th>\n",
       "    </tr>\n",
       "  </thead>\n",
       "  <tbody>\n",
       "    <tr>\n",
       "      <th>0</th>\n",
       "      <td>model_knn</td>\n",
       "      <td>0.700000</td>\n",
       "    </tr>\n",
       "    <tr>\n",
       "      <th>1</th>\n",
       "      <td>model_knn</td>\n",
       "      <td>0.650000</td>\n",
       "    </tr>\n",
       "    <tr>\n",
       "      <th>2</th>\n",
       "      <td>model_knn</td>\n",
       "      <td>0.650000</td>\n",
       "    </tr>\n",
       "    <tr>\n",
       "      <th>3</th>\n",
       "      <td>model_knn</td>\n",
       "      <td>0.550000</td>\n",
       "    </tr>\n",
       "    <tr>\n",
       "      <th>4</th>\n",
       "      <td>model_knn</td>\n",
       "      <td>0.700000</td>\n",
       "    </tr>\n",
       "    <tr>\n",
       "      <th>5</th>\n",
       "      <td>model_knn</td>\n",
       "      <td>0.600000</td>\n",
       "    </tr>\n",
       "    <tr>\n",
       "      <th>6</th>\n",
       "      <td>model_knn</td>\n",
       "      <td>0.750000</td>\n",
       "    </tr>\n",
       "    <tr>\n",
       "      <th>7</th>\n",
       "      <td>model_knn</td>\n",
       "      <td>0.842105</td>\n",
       "    </tr>\n",
       "    <tr>\n",
       "      <th>8</th>\n",
       "      <td>model_knn</td>\n",
       "      <td>0.473684</td>\n",
       "    </tr>\n",
       "    <tr>\n",
       "      <th>9</th>\n",
       "      <td>model_knn</td>\n",
       "      <td>0.684211</td>\n",
       "    </tr>\n",
       "    <tr>\n",
       "      <th>10</th>\n",
       "      <td>model_knn</td>\n",
       "      <td>0.473684</td>\n",
       "    </tr>\n",
       "    <tr>\n",
       "      <th>11</th>\n",
       "      <td>model_knn</td>\n",
       "      <td>0.578947</td>\n",
       "    </tr>\n",
       "    <tr>\n",
       "      <th>12</th>\n",
       "      <td>model_knn</td>\n",
       "      <td>0.631579</td>\n",
       "    </tr>\n",
       "    <tr>\n",
       "      <th>13</th>\n",
       "      <td>model_knn</td>\n",
       "      <td>0.684211</td>\n",
       "    </tr>\n",
       "    <tr>\n",
       "      <th>14</th>\n",
       "      <td>model_knn</td>\n",
       "      <td>0.684211</td>\n",
       "    </tr>\n",
       "    <tr>\n",
       "      <th>15</th>\n",
       "      <td>model_dt</td>\n",
       "      <td>0.750000</td>\n",
       "    </tr>\n",
       "    <tr>\n",
       "      <th>16</th>\n",
       "      <td>model_dt</td>\n",
       "      <td>0.800000</td>\n",
       "    </tr>\n",
       "    <tr>\n",
       "      <th>17</th>\n",
       "      <td>model_dt</td>\n",
       "      <td>0.600000</td>\n",
       "    </tr>\n",
       "    <tr>\n",
       "      <th>18</th>\n",
       "      <td>model_dt</td>\n",
       "      <td>0.750000</td>\n",
       "    </tr>\n",
       "    <tr>\n",
       "      <th>19</th>\n",
       "      <td>model_dt</td>\n",
       "      <td>0.850000</td>\n",
       "    </tr>\n",
       "    <tr>\n",
       "      <th>20</th>\n",
       "      <td>model_dt</td>\n",
       "      <td>0.450000</td>\n",
       "    </tr>\n",
       "    <tr>\n",
       "      <th>21</th>\n",
       "      <td>model_dt</td>\n",
       "      <td>0.750000</td>\n",
       "    </tr>\n",
       "    <tr>\n",
       "      <th>22</th>\n",
       "      <td>model_dt</td>\n",
       "      <td>0.842105</td>\n",
       "    </tr>\n",
       "    <tr>\n",
       "      <th>23</th>\n",
       "      <td>model_dt</td>\n",
       "      <td>0.578947</td>\n",
       "    </tr>\n",
       "    <tr>\n",
       "      <th>24</th>\n",
       "      <td>model_dt</td>\n",
       "      <td>0.894737</td>\n",
       "    </tr>\n",
       "    <tr>\n",
       "      <th>25</th>\n",
       "      <td>model_dt</td>\n",
       "      <td>0.526316</td>\n",
       "    </tr>\n",
       "    <tr>\n",
       "      <th>26</th>\n",
       "      <td>model_dt</td>\n",
       "      <td>0.736842</td>\n",
       "    </tr>\n",
       "    <tr>\n",
       "      <th>27</th>\n",
       "      <td>model_dt</td>\n",
       "      <td>0.789474</td>\n",
       "    </tr>\n",
       "    <tr>\n",
       "      <th>28</th>\n",
       "      <td>model_dt</td>\n",
       "      <td>0.684211</td>\n",
       "    </tr>\n",
       "    <tr>\n",
       "      <th>29</th>\n",
       "      <td>model_dt</td>\n",
       "      <td>0.736842</td>\n",
       "    </tr>\n",
       "    <tr>\n",
       "      <th>30</th>\n",
       "      <td>model_rf</td>\n",
       "      <td>0.550000</td>\n",
       "    </tr>\n",
       "    <tr>\n",
       "      <th>31</th>\n",
       "      <td>model_rf</td>\n",
       "      <td>0.700000</td>\n",
       "    </tr>\n",
       "    <tr>\n",
       "      <th>32</th>\n",
       "      <td>model_rf</td>\n",
       "      <td>0.800000</td>\n",
       "    </tr>\n",
       "    <tr>\n",
       "      <th>33</th>\n",
       "      <td>model_rf</td>\n",
       "      <td>0.600000</td>\n",
       "    </tr>\n",
       "    <tr>\n",
       "      <th>34</th>\n",
       "      <td>model_rf</td>\n",
       "      <td>0.700000</td>\n",
       "    </tr>\n",
       "    <tr>\n",
       "      <th>35</th>\n",
       "      <td>model_rf</td>\n",
       "      <td>0.550000</td>\n",
       "    </tr>\n",
       "    <tr>\n",
       "      <th>36</th>\n",
       "      <td>model_rf</td>\n",
       "      <td>0.600000</td>\n",
       "    </tr>\n",
       "    <tr>\n",
       "      <th>37</th>\n",
       "      <td>model_rf</td>\n",
       "      <td>0.736842</td>\n",
       "    </tr>\n",
       "    <tr>\n",
       "      <th>38</th>\n",
       "      <td>model_rf</td>\n",
       "      <td>0.578947</td>\n",
       "    </tr>\n",
       "    <tr>\n",
       "      <th>39</th>\n",
       "      <td>model_rf</td>\n",
       "      <td>0.631579</td>\n",
       "    </tr>\n",
       "    <tr>\n",
       "      <th>40</th>\n",
       "      <td>model_rf</td>\n",
       "      <td>0.421053</td>\n",
       "    </tr>\n",
       "    <tr>\n",
       "      <th>41</th>\n",
       "      <td>model_rf</td>\n",
       "      <td>0.684211</td>\n",
       "    </tr>\n",
       "    <tr>\n",
       "      <th>42</th>\n",
       "      <td>model_rf</td>\n",
       "      <td>0.736842</td>\n",
       "    </tr>\n",
       "    <tr>\n",
       "      <th>43</th>\n",
       "      <td>model_rf</td>\n",
       "      <td>0.684211</td>\n",
       "    </tr>\n",
       "    <tr>\n",
       "      <th>44</th>\n",
       "      <td>model_rf</td>\n",
       "      <td>0.894737</td>\n",
       "    </tr>\n",
       "  </tbody>\n",
       "</table>\n",
       "</div>"
      ],
      "text/plain": [
       "     variable     value\n",
       "0   model_knn  0.700000\n",
       "1   model_knn  0.650000\n",
       "2   model_knn  0.650000\n",
       "3   model_knn  0.550000\n",
       "4   model_knn  0.700000\n",
       "5   model_knn  0.600000\n",
       "6   model_knn  0.750000\n",
       "7   model_knn  0.842105\n",
       "8   model_knn  0.473684\n",
       "9   model_knn  0.684211\n",
       "10  model_knn  0.473684\n",
       "11  model_knn  0.578947\n",
       "12  model_knn  0.631579\n",
       "13  model_knn  0.684211\n",
       "14  model_knn  0.684211\n",
       "15   model_dt  0.750000\n",
       "16   model_dt  0.800000\n",
       "17   model_dt  0.600000\n",
       "18   model_dt  0.750000\n",
       "19   model_dt  0.850000\n",
       "20   model_dt  0.450000\n",
       "21   model_dt  0.750000\n",
       "22   model_dt  0.842105\n",
       "23   model_dt  0.578947\n",
       "24   model_dt  0.894737\n",
       "25   model_dt  0.526316\n",
       "26   model_dt  0.736842\n",
       "27   model_dt  0.789474\n",
       "28   model_dt  0.684211\n",
       "29   model_dt  0.736842\n",
       "30   model_rf  0.550000\n",
       "31   model_rf  0.700000\n",
       "32   model_rf  0.800000\n",
       "33   model_rf  0.600000\n",
       "34   model_rf  0.700000\n",
       "35   model_rf  0.550000\n",
       "36   model_rf  0.600000\n",
       "37   model_rf  0.736842\n",
       "38   model_rf  0.578947\n",
       "39   model_rf  0.631579\n",
       "40   model_rf  0.421053\n",
       "41   model_rf  0.684211\n",
       "42   model_rf  0.736842\n",
       "43   model_rf  0.684211\n",
       "44   model_rf  0.894737"
      ]
     },
     "execution_count": 221,
     "metadata": {},
     "output_type": "execute_result"
    }
   ],
   "source": [
    "results_reformatted"
   ]
  },
  {
   "cell_type": "code",
   "execution_count": 222,
   "metadata": {
    "ExecuteTime": {
     "end_time": "2020-03-20T10:47:46.691208Z",
     "start_time": "2020-03-20T10:47:46.566482Z"
    }
   },
   "outputs": [
    {
     "name": "stdout",
     "output_type": "stream",
     "text": [
      "   Multiple Comparison of Means - Tukey HSD, FWER=0.05   \n",
      "=========================================================\n",
      "  group1    group2  meandiff p-adj   lower  upper  reject\n",
      "---------------------------------------------------------\n",
      " model_dt model_knn  -0.0725 0.2014 -0.1734 0.0285  False\n",
      " model_dt  model_rf  -0.0581 0.3523  -0.159 0.0429  False\n",
      "model_knn  model_rf   0.0144    0.9 -0.0866 0.1154  False\n",
      "---------------------------------------------------------\n"
     ]
    }
   ],
   "source": [
    "multicomp = MultiComparison(\n",
    "    data=results_reformatted.value,\n",
    "    groups=results_reformatted.variable,\n",
    ")\n",
    "print(multicomp.tukeyhsd())"
   ]
  },
  {
   "cell_type": "code",
   "execution_count": 223,
   "metadata": {
    "ExecuteTime": {
     "end_time": "2020-03-20T10:47:46.701917Z",
     "start_time": "2020-03-20T10:47:46.693725Z"
    }
   },
   "outputs": [],
   "source": [
    "import scikit_posthocs as sp"
   ]
  },
  {
   "cell_type": "code",
   "execution_count": 224,
   "metadata": {
    "ExecuteTime": {
     "end_time": "2020-03-20T10:47:46.835237Z",
     "start_time": "2020-03-20T10:47:46.704393Z"
    }
   },
   "outputs": [
    {
     "data": {
      "text/html": [
       "<div>\n",
       "<style scoped>\n",
       "    .dataframe tbody tr th:only-of-type {\n",
       "        vertical-align: middle;\n",
       "    }\n",
       "\n",
       "    .dataframe tbody tr th {\n",
       "        vertical-align: top;\n",
       "    }\n",
       "\n",
       "    .dataframe thead th {\n",
       "        text-align: right;\n",
       "    }\n",
       "</style>\n",
       "<table border=\"1\" class=\"dataframe\">\n",
       "  <thead>\n",
       "    <tr style=\"text-align: right;\">\n",
       "      <th></th>\n",
       "      <th>model_dt</th>\n",
       "      <th>model_knn</th>\n",
       "      <th>model_rf</th>\n",
       "    </tr>\n",
       "  </thead>\n",
       "  <tbody>\n",
       "    <tr>\n",
       "      <th>model_dt</th>\n",
       "      <td>True</td>\n",
       "      <td>False</td>\n",
       "      <td>False</td>\n",
       "    </tr>\n",
       "    <tr>\n",
       "      <th>model_knn</th>\n",
       "      <td>False</td>\n",
       "      <td>True</td>\n",
       "      <td>False</td>\n",
       "    </tr>\n",
       "    <tr>\n",
       "      <th>model_rf</th>\n",
       "      <td>False</td>\n",
       "      <td>False</td>\n",
       "      <td>True</td>\n",
       "    </tr>\n",
       "  </tbody>\n",
       "</table>\n",
       "</div>"
      ],
      "text/plain": [
       "           model_dt  model_knn  model_rf\n",
       "model_dt       True      False     False\n",
       "model_knn     False       True     False\n",
       "model_rf      False      False      True"
      ]
     },
     "execution_count": 224,
     "metadata": {},
     "output_type": "execute_result"
    }
   ],
   "source": [
    "pvals = sp.posthoc_tukey(results_reformatted, val_col='value', group_col='variable', )\n",
    "pvals < 0.05"
   ]
  },
  {
   "cell_type": "code",
   "execution_count": 225,
   "metadata": {
    "ExecuteTime": {
     "end_time": "2020-03-20T10:47:46.890528Z",
     "start_time": "2020-03-20T10:47:46.838058Z"
    }
   },
   "outputs": [
    {
     "data": {
      "text/html": [
       "<div>\n",
       "<style scoped>\n",
       "    .dataframe tbody tr th:only-of-type {\n",
       "        vertical-align: middle;\n",
       "    }\n",
       "\n",
       "    .dataframe tbody tr th {\n",
       "        vertical-align: top;\n",
       "    }\n",
       "\n",
       "    .dataframe thead th {\n",
       "        text-align: right;\n",
       "    }\n",
       "</style>\n",
       "<table border=\"1\" class=\"dataframe\">\n",
       "  <thead>\n",
       "    <tr style=\"text-align: right;\">\n",
       "      <th></th>\n",
       "      <th>model_dt</th>\n",
       "      <th>model_knn</th>\n",
       "      <th>model_rf</th>\n",
       "    </tr>\n",
       "  </thead>\n",
       "  <tbody>\n",
       "    <tr>\n",
       "      <th>model_dt</th>\n",
       "      <td>-1.000000</td>\n",
       "      <td>0.201444</td>\n",
       "      <td>0.352313</td>\n",
       "    </tr>\n",
       "    <tr>\n",
       "      <th>model_knn</th>\n",
       "      <td>0.201444</td>\n",
       "      <td>-1.000000</td>\n",
       "      <td>0.900000</td>\n",
       "    </tr>\n",
       "    <tr>\n",
       "      <th>model_rf</th>\n",
       "      <td>0.352313</td>\n",
       "      <td>0.900000</td>\n",
       "      <td>-1.000000</td>\n",
       "    </tr>\n",
       "  </tbody>\n",
       "</table>\n",
       "</div>"
      ],
      "text/plain": [
       "           model_dt  model_knn  model_rf\n",
       "model_dt  -1.000000   0.201444  0.352313\n",
       "model_knn  0.201444  -1.000000  0.900000\n",
       "model_rf   0.352313   0.900000 -1.000000"
      ]
     },
     "execution_count": 225,
     "metadata": {},
     "output_type": "execute_result"
    }
   ],
   "source": [
    "pvals"
   ]
  },
  {
   "cell_type": "code",
   "execution_count": null,
   "metadata": {},
   "outputs": [],
   "source": []
  },
  {
   "cell_type": "code",
   "execution_count": null,
   "metadata": {},
   "outputs": [],
   "source": []
  }
 ],
 "metadata": {
  "kernelspec": {
   "display_name": "Python 3",
   "language": "python",
   "name": "python3"
  },
  "language_info": {
   "codemirror_mode": {
    "name": "ipython",
    "version": 3
   },
   "file_extension": ".py",
   "mimetype": "text/x-python",
   "name": "python",
   "nbconvert_exporter": "python",
   "pygments_lexer": "ipython3",
   "version": "3.7.6"
  },
  "latex_envs": {
   "LaTeX_envs_menu_present": true,
   "autoclose": false,
   "autocomplete": true,
   "bibliofile": "biblio.bib",
   "cite_by": "apalike",
   "current_citInitial": 1,
   "eqLabelWithNumbers": true,
   "eqNumInitial": 1,
   "hotkeys": {
    "equation": "Ctrl-E",
    "itemize": "Ctrl-I"
   },
   "labels_anchors": false,
   "latex_user_defs": false,
   "report_style_numbering": false,
   "user_envs_cfg": false
  },
  "toc": {
   "base_numbering": 1,
   "nav_menu": {},
   "number_sections": true,
   "sideBar": true,
   "skip_h1_title": false,
   "title_cell": "Table of Contents",
   "title_sidebar": "Contents",
   "toc_cell": false,
   "toc_position": {},
   "toc_section_display": true,
   "toc_window_display": false
  },
  "varInspector": {
   "cols": {
    "lenName": 16,
    "lenType": 16,
    "lenVar": 40
   },
   "kernels_config": {
    "python": {
     "delete_cmd_postfix": "",
     "delete_cmd_prefix": "del ",
     "library": "var_list.py",
     "varRefreshCmd": "print(var_dic_list())"
    },
    "r": {
     "delete_cmd_postfix": ") ",
     "delete_cmd_prefix": "rm(",
     "library": "var_list.r",
     "varRefreshCmd": "cat(var_dic_list()) "
    }
   },
   "types_to_exclude": [
    "module",
    "function",
    "builtin_function_or_method",
    "instance",
    "_Feature"
   ],
   "window_display": false
  }
 },
 "nbformat": 4,
 "nbformat_minor": 4
}
